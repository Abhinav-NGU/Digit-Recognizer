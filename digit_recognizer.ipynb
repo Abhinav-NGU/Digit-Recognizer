{
  "cells": [
    {
      "cell_type": "markdown",
      "metadata": {
        "id": "b0uFk2ka-yWa"
      },
      "source": [
        "<h3 style=\"text-align: center;\" markdown=\"1\">Handwritten Digit Recognition using Supervised Deep Learning Models\n"
      ]
    },
    {
      "cell_type": "code",
      "execution_count": null,
      "metadata": {
        "_cell_guid": "b1076dfc-b9ad-4769-8c92-a6c4dae69d19",
        "_uuid": "8f2839f25d086af736a60e9eeb907d3b93b6e0e5",
        "execution": {
          "iopub.execute_input": "2023-10-03T16:55:06.580557Z",
          "iopub.status.busy": "2023-10-03T16:55:06.580186Z",
          "iopub.status.idle": "2023-10-03T16:55:17.699015Z",
          "shell.execute_reply": "2023-10-03T16:55:17.697625Z",
          "shell.execute_reply.started": "2023-10-03T16:55:06.580526Z"
        },
        "trusted": true,
        "id": "p1Q2N3YG-yWb"
      },
      "outputs": [],
      "source": [
        "\n",
        "import numpy as np\n",
        "import pandas as pd\n",
        "import matplotlib.pyplot as plt\n",
        "%matplotlib inline\n",
        "import tensorflow as tf\n",
        "import os\n",
        "from sklearn import metrics\n",
        "\n",
        "import numpy as np\n",
        "import pandas as pd\n",
        "import tensorflow as tf\n",
        "import time\n",
        "import seaborn as sns\n"
      ]
    },
    {
      "cell_type": "code",
      "source": [
        "from google.colab import drive\n",
        "drive.mount('/content/drive')"
      ],
      "metadata": {
        "colab": {
          "base_uri": "https://localhost:8080/"
        },
        "id": "r74M_4wgYXad",
        "outputId": "9c56b44d-1293-4dae-a32e-70f6374053ac"
      },
      "execution_count": null,
      "outputs": [
        {
          "output_type": "stream",
          "name": "stdout",
          "text": [
            "Mounted at /content/drive\n"
          ]
        }
      ]
    },
    {
      "cell_type": "markdown",
      "source": [
        "<h2> Reading data (training data of digit recongnizer competition from kaggle)</h2>\n"
      ],
      "metadata": {
        "id": "vj7nwnhxDzwu"
      }
    },
    {
      "cell_type": "code",
      "execution_count": null,
      "metadata": {
        "execution": {
          "iopub.execute_input": "2023-10-03T16:55:26.234082Z",
          "iopub.status.busy": "2023-10-03T16:55:26.233281Z",
          "iopub.status.idle": "2023-10-03T16:55:31.379012Z",
          "shell.execute_reply": "2023-10-03T16:55:31.377839Z",
          "shell.execute_reply.started": "2023-10-03T16:55:26.234041Z"
        },
        "trusted": true,
        "id": "QAzcACUR-yWd"
      },
      "outputs": [],
      "source": [
        "data = pd.read_csv(\"/content/drive/MyDrive/train.csv\")"
      ]
    },
    {
      "cell_type": "code",
      "source": [
        "data.shape"
      ],
      "metadata": {
        "colab": {
          "base_uri": "https://localhost:8080/"
        },
        "id": "xXR_sBO5Vf0b",
        "outputId": "3b110c06-3446-4411-c064-4e1aeb4f7505"
      },
      "execution_count": null,
      "outputs": [
        {
          "output_type": "execute_result",
          "data": {
            "text/plain": [
              "(42000, 785)"
            ]
          },
          "metadata": {},
          "execution_count": 4
        }
      ]
    },
    {
      "cell_type": "markdown",
      "source": [
        "Splitting Dataset\n",
        "\n",
        "\n",
        "*   80% for training\n",
        "*   20% for testing\n",
        "\n"
      ],
      "metadata": {
        "id": "yNfpvoX3EGhk"
      }
    },
    {
      "cell_type": "code",
      "execution_count": null,
      "metadata": {
        "id": "zPtAi-lw-yWd"
      },
      "outputs": [],
      "source": [
        "# Assuming you have a dataset named 'data'\n",
        "\n",
        "# Define the split ratio (e.g., 80% for the first part, 20% for the second part)\n",
        "split_ratio = 0.8\n",
        "\n",
        "# Calculate the split index\n",
        "split_index = int(split_ratio * len(data))\n",
        "\n",
        "# Split the dataset into two parts\n",
        "train = data[:split_index]\n",
        "test = data[split_index:]\n"
      ]
    },
    {
      "cell_type": "code",
      "execution_count": null,
      "metadata": {
        "execution": {
          "iopub.execute_input": "2023-10-03T16:55:35.108638Z",
          "iopub.status.busy": "2023-10-03T16:55:35.108252Z",
          "iopub.status.idle": "2023-10-03T16:55:35.145638Z",
          "shell.execute_reply": "2023-10-03T16:55:35.144395Z",
          "shell.execute_reply.started": "2023-10-03T16:55:35.108605Z"
        },
        "trusted": true,
        "colab": {
          "base_uri": "https://localhost:8080/",
          "height": 255
        },
        "id": "o02uNpH0-yWd",
        "outputId": "375836ba-3a1a-42a9-a089-af36985396ba"
      },
      "outputs": [
        {
          "output_type": "execute_result",
          "data": {
            "text/plain": [
              "   label  pixel0  pixel1  pixel2  pixel3  pixel4  pixel5  pixel6  pixel7  \\\n",
              "0      1       0       0       0       0       0       0       0       0   \n",
              "1      0       0       0       0       0       0       0       0       0   \n",
              "2      1       0       0       0       0       0       0       0       0   \n",
              "3      4       0       0       0       0       0       0       0       0   \n",
              "4      0       0       0       0       0       0       0       0       0   \n",
              "\n",
              "   pixel8  ...  pixel774  pixel775  pixel776  pixel777  pixel778  pixel779  \\\n",
              "0       0  ...         0         0         0         0         0         0   \n",
              "1       0  ...         0         0         0         0         0         0   \n",
              "2       0  ...         0         0         0         0         0         0   \n",
              "3       0  ...         0         0         0         0         0         0   \n",
              "4       0  ...         0         0         0         0         0         0   \n",
              "\n",
              "   pixel780  pixel781  pixel782  pixel783  \n",
              "0         0         0         0         0  \n",
              "1         0         0         0         0  \n",
              "2         0         0         0         0  \n",
              "3         0         0         0         0  \n",
              "4         0         0         0         0  \n",
              "\n",
              "[5 rows x 785 columns]"
            ],
            "text/html": [
              "\n",
              "  <div id=\"df-9531b16d-f4c5-4011-8383-0d2a5bb28c0c\" class=\"colab-df-container\">\n",
              "    <div>\n",
              "<style scoped>\n",
              "    .dataframe tbody tr th:only-of-type {\n",
              "        vertical-align: middle;\n",
              "    }\n",
              "\n",
              "    .dataframe tbody tr th {\n",
              "        vertical-align: top;\n",
              "    }\n",
              "\n",
              "    .dataframe thead th {\n",
              "        text-align: right;\n",
              "    }\n",
              "</style>\n",
              "<table border=\"1\" class=\"dataframe\">\n",
              "  <thead>\n",
              "    <tr style=\"text-align: right;\">\n",
              "      <th></th>\n",
              "      <th>label</th>\n",
              "      <th>pixel0</th>\n",
              "      <th>pixel1</th>\n",
              "      <th>pixel2</th>\n",
              "      <th>pixel3</th>\n",
              "      <th>pixel4</th>\n",
              "      <th>pixel5</th>\n",
              "      <th>pixel6</th>\n",
              "      <th>pixel7</th>\n",
              "      <th>pixel8</th>\n",
              "      <th>...</th>\n",
              "      <th>pixel774</th>\n",
              "      <th>pixel775</th>\n",
              "      <th>pixel776</th>\n",
              "      <th>pixel777</th>\n",
              "      <th>pixel778</th>\n",
              "      <th>pixel779</th>\n",
              "      <th>pixel780</th>\n",
              "      <th>pixel781</th>\n",
              "      <th>pixel782</th>\n",
              "      <th>pixel783</th>\n",
              "    </tr>\n",
              "  </thead>\n",
              "  <tbody>\n",
              "    <tr>\n",
              "      <th>0</th>\n",
              "      <td>1</td>\n",
              "      <td>0</td>\n",
              "      <td>0</td>\n",
              "      <td>0</td>\n",
              "      <td>0</td>\n",
              "      <td>0</td>\n",
              "      <td>0</td>\n",
              "      <td>0</td>\n",
              "      <td>0</td>\n",
              "      <td>0</td>\n",
              "      <td>...</td>\n",
              "      <td>0</td>\n",
              "      <td>0</td>\n",
              "      <td>0</td>\n",
              "      <td>0</td>\n",
              "      <td>0</td>\n",
              "      <td>0</td>\n",
              "      <td>0</td>\n",
              "      <td>0</td>\n",
              "      <td>0</td>\n",
              "      <td>0</td>\n",
              "    </tr>\n",
              "    <tr>\n",
              "      <th>1</th>\n",
              "      <td>0</td>\n",
              "      <td>0</td>\n",
              "      <td>0</td>\n",
              "      <td>0</td>\n",
              "      <td>0</td>\n",
              "      <td>0</td>\n",
              "      <td>0</td>\n",
              "      <td>0</td>\n",
              "      <td>0</td>\n",
              "      <td>0</td>\n",
              "      <td>...</td>\n",
              "      <td>0</td>\n",
              "      <td>0</td>\n",
              "      <td>0</td>\n",
              "      <td>0</td>\n",
              "      <td>0</td>\n",
              "      <td>0</td>\n",
              "      <td>0</td>\n",
              "      <td>0</td>\n",
              "      <td>0</td>\n",
              "      <td>0</td>\n",
              "    </tr>\n",
              "    <tr>\n",
              "      <th>2</th>\n",
              "      <td>1</td>\n",
              "      <td>0</td>\n",
              "      <td>0</td>\n",
              "      <td>0</td>\n",
              "      <td>0</td>\n",
              "      <td>0</td>\n",
              "      <td>0</td>\n",
              "      <td>0</td>\n",
              "      <td>0</td>\n",
              "      <td>0</td>\n",
              "      <td>...</td>\n",
              "      <td>0</td>\n",
              "      <td>0</td>\n",
              "      <td>0</td>\n",
              "      <td>0</td>\n",
              "      <td>0</td>\n",
              "      <td>0</td>\n",
              "      <td>0</td>\n",
              "      <td>0</td>\n",
              "      <td>0</td>\n",
              "      <td>0</td>\n",
              "    </tr>\n",
              "    <tr>\n",
              "      <th>3</th>\n",
              "      <td>4</td>\n",
              "      <td>0</td>\n",
              "      <td>0</td>\n",
              "      <td>0</td>\n",
              "      <td>0</td>\n",
              "      <td>0</td>\n",
              "      <td>0</td>\n",
              "      <td>0</td>\n",
              "      <td>0</td>\n",
              "      <td>0</td>\n",
              "      <td>...</td>\n",
              "      <td>0</td>\n",
              "      <td>0</td>\n",
              "      <td>0</td>\n",
              "      <td>0</td>\n",
              "      <td>0</td>\n",
              "      <td>0</td>\n",
              "      <td>0</td>\n",
              "      <td>0</td>\n",
              "      <td>0</td>\n",
              "      <td>0</td>\n",
              "    </tr>\n",
              "    <tr>\n",
              "      <th>4</th>\n",
              "      <td>0</td>\n",
              "      <td>0</td>\n",
              "      <td>0</td>\n",
              "      <td>0</td>\n",
              "      <td>0</td>\n",
              "      <td>0</td>\n",
              "      <td>0</td>\n",
              "      <td>0</td>\n",
              "      <td>0</td>\n",
              "      <td>0</td>\n",
              "      <td>...</td>\n",
              "      <td>0</td>\n",
              "      <td>0</td>\n",
              "      <td>0</td>\n",
              "      <td>0</td>\n",
              "      <td>0</td>\n",
              "      <td>0</td>\n",
              "      <td>0</td>\n",
              "      <td>0</td>\n",
              "      <td>0</td>\n",
              "      <td>0</td>\n",
              "    </tr>\n",
              "  </tbody>\n",
              "</table>\n",
              "<p>5 rows × 785 columns</p>\n",
              "</div>\n",
              "    <div class=\"colab-df-buttons\">\n",
              "\n",
              "  <div class=\"colab-df-container\">\n",
              "    <button class=\"colab-df-convert\" onclick=\"convertToInteractive('df-9531b16d-f4c5-4011-8383-0d2a5bb28c0c')\"\n",
              "            title=\"Convert this dataframe to an interactive table.\"\n",
              "            style=\"display:none;\">\n",
              "\n",
              "  <svg xmlns=\"http://www.w3.org/2000/svg\" height=\"24px\" viewBox=\"0 -960 960 960\">\n",
              "    <path d=\"M120-120v-720h720v720H120Zm60-500h600v-160H180v160Zm220 220h160v-160H400v160Zm0 220h160v-160H400v160ZM180-400h160v-160H180v160Zm440 0h160v-160H620v160ZM180-180h160v-160H180v160Zm440 0h160v-160H620v160Z\"/>\n",
              "  </svg>\n",
              "    </button>\n",
              "\n",
              "  <style>\n",
              "    .colab-df-container {\n",
              "      display:flex;\n",
              "      gap: 12px;\n",
              "    }\n",
              "\n",
              "    .colab-df-convert {\n",
              "      background-color: #E8F0FE;\n",
              "      border: none;\n",
              "      border-radius: 50%;\n",
              "      cursor: pointer;\n",
              "      display: none;\n",
              "      fill: #1967D2;\n",
              "      height: 32px;\n",
              "      padding: 0 0 0 0;\n",
              "      width: 32px;\n",
              "    }\n",
              "\n",
              "    .colab-df-convert:hover {\n",
              "      background-color: #E2EBFA;\n",
              "      box-shadow: 0px 1px 2px rgba(60, 64, 67, 0.3), 0px 1px 3px 1px rgba(60, 64, 67, 0.15);\n",
              "      fill: #174EA6;\n",
              "    }\n",
              "\n",
              "    .colab-df-buttons div {\n",
              "      margin-bottom: 4px;\n",
              "    }\n",
              "\n",
              "    [theme=dark] .colab-df-convert {\n",
              "      background-color: #3B4455;\n",
              "      fill: #D2E3FC;\n",
              "    }\n",
              "\n",
              "    [theme=dark] .colab-df-convert:hover {\n",
              "      background-color: #434B5C;\n",
              "      box-shadow: 0px 1px 3px 1px rgba(0, 0, 0, 0.15);\n",
              "      filter: drop-shadow(0px 1px 2px rgba(0, 0, 0, 0.3));\n",
              "      fill: #FFFFFF;\n",
              "    }\n",
              "  </style>\n",
              "\n",
              "    <script>\n",
              "      const buttonEl =\n",
              "        document.querySelector('#df-9531b16d-f4c5-4011-8383-0d2a5bb28c0c button.colab-df-convert');\n",
              "      buttonEl.style.display =\n",
              "        google.colab.kernel.accessAllowed ? 'block' : 'none';\n",
              "\n",
              "      async function convertToInteractive(key) {\n",
              "        const element = document.querySelector('#df-9531b16d-f4c5-4011-8383-0d2a5bb28c0c');\n",
              "        const dataTable =\n",
              "          await google.colab.kernel.invokeFunction('convertToInteractive',\n",
              "                                                    [key], {});\n",
              "        if (!dataTable) return;\n",
              "\n",
              "        const docLinkHtml = 'Like what you see? Visit the ' +\n",
              "          '<a target=\"_blank\" href=https://colab.research.google.com/notebooks/data_table.ipynb>data table notebook</a>'\n",
              "          + ' to learn more about interactive tables.';\n",
              "        element.innerHTML = '';\n",
              "        dataTable['output_type'] = 'display_data';\n",
              "        await google.colab.output.renderOutput(dataTable, element);\n",
              "        const docLink = document.createElement('div');\n",
              "        docLink.innerHTML = docLinkHtml;\n",
              "        element.appendChild(docLink);\n",
              "      }\n",
              "    </script>\n",
              "  </div>\n",
              "\n",
              "\n",
              "<div id=\"df-b0c413b8-f5a0-45bd-a995-a09c7d7df02e\">\n",
              "  <button class=\"colab-df-quickchart\" onclick=\"quickchart('df-b0c413b8-f5a0-45bd-a995-a09c7d7df02e')\"\n",
              "            title=\"Suggest charts.\"\n",
              "            style=\"display:none;\">\n",
              "\n",
              "<svg xmlns=\"http://www.w3.org/2000/svg\" height=\"24px\"viewBox=\"0 0 24 24\"\n",
              "     width=\"24px\">\n",
              "    <g>\n",
              "        <path d=\"M19 3H5c-1.1 0-2 .9-2 2v14c0 1.1.9 2 2 2h14c1.1 0 2-.9 2-2V5c0-1.1-.9-2-2-2zM9 17H7v-7h2v7zm4 0h-2V7h2v10zm4 0h-2v-4h2v4z\"/>\n",
              "    </g>\n",
              "</svg>\n",
              "  </button>\n",
              "\n",
              "<style>\n",
              "  .colab-df-quickchart {\n",
              "      --bg-color: #E8F0FE;\n",
              "      --fill-color: #1967D2;\n",
              "      --hover-bg-color: #E2EBFA;\n",
              "      --hover-fill-color: #174EA6;\n",
              "      --disabled-fill-color: #AAA;\n",
              "      --disabled-bg-color: #DDD;\n",
              "  }\n",
              "\n",
              "  [theme=dark] .colab-df-quickchart {\n",
              "      --bg-color: #3B4455;\n",
              "      --fill-color: #D2E3FC;\n",
              "      --hover-bg-color: #434B5C;\n",
              "      --hover-fill-color: #FFFFFF;\n",
              "      --disabled-bg-color: #3B4455;\n",
              "      --disabled-fill-color: #666;\n",
              "  }\n",
              "\n",
              "  .colab-df-quickchart {\n",
              "    background-color: var(--bg-color);\n",
              "    border: none;\n",
              "    border-radius: 50%;\n",
              "    cursor: pointer;\n",
              "    display: none;\n",
              "    fill: var(--fill-color);\n",
              "    height: 32px;\n",
              "    padding: 0;\n",
              "    width: 32px;\n",
              "  }\n",
              "\n",
              "  .colab-df-quickchart:hover {\n",
              "    background-color: var(--hover-bg-color);\n",
              "    box-shadow: 0 1px 2px rgba(60, 64, 67, 0.3), 0 1px 3px 1px rgba(60, 64, 67, 0.15);\n",
              "    fill: var(--button-hover-fill-color);\n",
              "  }\n",
              "\n",
              "  .colab-df-quickchart-complete:disabled,\n",
              "  .colab-df-quickchart-complete:disabled:hover {\n",
              "    background-color: var(--disabled-bg-color);\n",
              "    fill: var(--disabled-fill-color);\n",
              "    box-shadow: none;\n",
              "  }\n",
              "\n",
              "  .colab-df-spinner {\n",
              "    border: 2px solid var(--fill-color);\n",
              "    border-color: transparent;\n",
              "    border-bottom-color: var(--fill-color);\n",
              "    animation:\n",
              "      spin 1s steps(1) infinite;\n",
              "  }\n",
              "\n",
              "  @keyframes spin {\n",
              "    0% {\n",
              "      border-color: transparent;\n",
              "      border-bottom-color: var(--fill-color);\n",
              "      border-left-color: var(--fill-color);\n",
              "    }\n",
              "    20% {\n",
              "      border-color: transparent;\n",
              "      border-left-color: var(--fill-color);\n",
              "      border-top-color: var(--fill-color);\n",
              "    }\n",
              "    30% {\n",
              "      border-color: transparent;\n",
              "      border-left-color: var(--fill-color);\n",
              "      border-top-color: var(--fill-color);\n",
              "      border-right-color: var(--fill-color);\n",
              "    }\n",
              "    40% {\n",
              "      border-color: transparent;\n",
              "      border-right-color: var(--fill-color);\n",
              "      border-top-color: var(--fill-color);\n",
              "    }\n",
              "    60% {\n",
              "      border-color: transparent;\n",
              "      border-right-color: var(--fill-color);\n",
              "    }\n",
              "    80% {\n",
              "      border-color: transparent;\n",
              "      border-right-color: var(--fill-color);\n",
              "      border-bottom-color: var(--fill-color);\n",
              "    }\n",
              "    90% {\n",
              "      border-color: transparent;\n",
              "      border-bottom-color: var(--fill-color);\n",
              "    }\n",
              "  }\n",
              "</style>\n",
              "\n",
              "  <script>\n",
              "    async function quickchart(key) {\n",
              "      const quickchartButtonEl =\n",
              "        document.querySelector('#' + key + ' button');\n",
              "      quickchartButtonEl.disabled = true;  // To prevent multiple clicks.\n",
              "      quickchartButtonEl.classList.add('colab-df-spinner');\n",
              "      try {\n",
              "        const charts = await google.colab.kernel.invokeFunction(\n",
              "            'suggestCharts', [key], {});\n",
              "      } catch (error) {\n",
              "        console.error('Error during call to suggestCharts:', error);\n",
              "      }\n",
              "      quickchartButtonEl.classList.remove('colab-df-spinner');\n",
              "      quickchartButtonEl.classList.add('colab-df-quickchart-complete');\n",
              "    }\n",
              "    (() => {\n",
              "      let quickchartButtonEl =\n",
              "        document.querySelector('#df-b0c413b8-f5a0-45bd-a995-a09c7d7df02e button');\n",
              "      quickchartButtonEl.style.display =\n",
              "        google.colab.kernel.accessAllowed ? 'block' : 'none';\n",
              "    })();\n",
              "  </script>\n",
              "</div>\n",
              "    </div>\n",
              "  </div>\n"
            ]
          },
          "metadata": {},
          "execution_count": 6
        }
      ],
      "source": [
        "train.head()"
      ]
    },
    {
      "cell_type": "code",
      "execution_count": null,
      "metadata": {
        "execution": {
          "iopub.execute_input": "2023-08-15T18:16:45.795919Z",
          "iopub.status.busy": "2023-08-15T18:16:45.795583Z",
          "iopub.status.idle": "2023-08-15T18:16:45.802140Z",
          "shell.execute_reply": "2023-08-15T18:16:45.801367Z",
          "shell.execute_reply.started": "2023-08-15T18:16:45.795890Z"
        },
        "trusted": true,
        "colab": {
          "base_uri": "https://localhost:8080/"
        },
        "id": "GfFxY63h-yWd",
        "outputId": "2e51debd-c986-4436-c707-f124dcf146aa"
      },
      "outputs": [
        {
          "output_type": "execute_result",
          "data": {
            "text/plain": [
              "(33600, 785)"
            ]
          },
          "metadata": {},
          "execution_count": 7
        }
      ],
      "source": [
        "train.shape"
      ]
    },
    {
      "cell_type": "code",
      "execution_count": null,
      "metadata": {
        "colab": {
          "base_uri": "https://localhost:8080/",
          "height": 255
        },
        "id": "n3zruQd3-yWd",
        "outputId": "e35b66a7-59e2-4b2a-a4e9-1fab3c4d8e18"
      },
      "outputs": [
        {
          "output_type": "execute_result",
          "data": {
            "text/plain": [
              "       label  pixel0  pixel1  pixel2  pixel3  pixel4  pixel5  pixel6  pixel7  \\\n",
              "33600      0       0       0       0       0       0       0       0       0   \n",
              "33601      7       0       0       0       0       0       0       0       0   \n",
              "33602      7       0       0       0       0       0       0       0       0   \n",
              "33603      2       0       0       0       0       0       0       0       0   \n",
              "33604      2       0       0       0       0       0       0       0       0   \n",
              "\n",
              "       pixel8  ...  pixel774  pixel775  pixel776  pixel777  pixel778  \\\n",
              "33600       0  ...         0         0         0         0         0   \n",
              "33601       0  ...         0         0         0         0         0   \n",
              "33602       0  ...         0         0         0         0         0   \n",
              "33603       0  ...         0         0         0         0         0   \n",
              "33604       0  ...         0         0         0         0         0   \n",
              "\n",
              "       pixel779  pixel780  pixel781  pixel782  pixel783  \n",
              "33600         0         0         0         0         0  \n",
              "33601         0         0         0         0         0  \n",
              "33602         0         0         0         0         0  \n",
              "33603         0         0         0         0         0  \n",
              "33604         0         0         0         0         0  \n",
              "\n",
              "[5 rows x 785 columns]"
            ],
            "text/html": [
              "\n",
              "  <div id=\"df-2f511525-cb76-4444-a111-d2fc478b3e18\" class=\"colab-df-container\">\n",
              "    <div>\n",
              "<style scoped>\n",
              "    .dataframe tbody tr th:only-of-type {\n",
              "        vertical-align: middle;\n",
              "    }\n",
              "\n",
              "    .dataframe tbody tr th {\n",
              "        vertical-align: top;\n",
              "    }\n",
              "\n",
              "    .dataframe thead th {\n",
              "        text-align: right;\n",
              "    }\n",
              "</style>\n",
              "<table border=\"1\" class=\"dataframe\">\n",
              "  <thead>\n",
              "    <tr style=\"text-align: right;\">\n",
              "      <th></th>\n",
              "      <th>label</th>\n",
              "      <th>pixel0</th>\n",
              "      <th>pixel1</th>\n",
              "      <th>pixel2</th>\n",
              "      <th>pixel3</th>\n",
              "      <th>pixel4</th>\n",
              "      <th>pixel5</th>\n",
              "      <th>pixel6</th>\n",
              "      <th>pixel7</th>\n",
              "      <th>pixel8</th>\n",
              "      <th>...</th>\n",
              "      <th>pixel774</th>\n",
              "      <th>pixel775</th>\n",
              "      <th>pixel776</th>\n",
              "      <th>pixel777</th>\n",
              "      <th>pixel778</th>\n",
              "      <th>pixel779</th>\n",
              "      <th>pixel780</th>\n",
              "      <th>pixel781</th>\n",
              "      <th>pixel782</th>\n",
              "      <th>pixel783</th>\n",
              "    </tr>\n",
              "  </thead>\n",
              "  <tbody>\n",
              "    <tr>\n",
              "      <th>33600</th>\n",
              "      <td>0</td>\n",
              "      <td>0</td>\n",
              "      <td>0</td>\n",
              "      <td>0</td>\n",
              "      <td>0</td>\n",
              "      <td>0</td>\n",
              "      <td>0</td>\n",
              "      <td>0</td>\n",
              "      <td>0</td>\n",
              "      <td>0</td>\n",
              "      <td>...</td>\n",
              "      <td>0</td>\n",
              "      <td>0</td>\n",
              "      <td>0</td>\n",
              "      <td>0</td>\n",
              "      <td>0</td>\n",
              "      <td>0</td>\n",
              "      <td>0</td>\n",
              "      <td>0</td>\n",
              "      <td>0</td>\n",
              "      <td>0</td>\n",
              "    </tr>\n",
              "    <tr>\n",
              "      <th>33601</th>\n",
              "      <td>7</td>\n",
              "      <td>0</td>\n",
              "      <td>0</td>\n",
              "      <td>0</td>\n",
              "      <td>0</td>\n",
              "      <td>0</td>\n",
              "      <td>0</td>\n",
              "      <td>0</td>\n",
              "      <td>0</td>\n",
              "      <td>0</td>\n",
              "      <td>...</td>\n",
              "      <td>0</td>\n",
              "      <td>0</td>\n",
              "      <td>0</td>\n",
              "      <td>0</td>\n",
              "      <td>0</td>\n",
              "      <td>0</td>\n",
              "      <td>0</td>\n",
              "      <td>0</td>\n",
              "      <td>0</td>\n",
              "      <td>0</td>\n",
              "    </tr>\n",
              "    <tr>\n",
              "      <th>33602</th>\n",
              "      <td>7</td>\n",
              "      <td>0</td>\n",
              "      <td>0</td>\n",
              "      <td>0</td>\n",
              "      <td>0</td>\n",
              "      <td>0</td>\n",
              "      <td>0</td>\n",
              "      <td>0</td>\n",
              "      <td>0</td>\n",
              "      <td>0</td>\n",
              "      <td>...</td>\n",
              "      <td>0</td>\n",
              "      <td>0</td>\n",
              "      <td>0</td>\n",
              "      <td>0</td>\n",
              "      <td>0</td>\n",
              "      <td>0</td>\n",
              "      <td>0</td>\n",
              "      <td>0</td>\n",
              "      <td>0</td>\n",
              "      <td>0</td>\n",
              "    </tr>\n",
              "    <tr>\n",
              "      <th>33603</th>\n",
              "      <td>2</td>\n",
              "      <td>0</td>\n",
              "      <td>0</td>\n",
              "      <td>0</td>\n",
              "      <td>0</td>\n",
              "      <td>0</td>\n",
              "      <td>0</td>\n",
              "      <td>0</td>\n",
              "      <td>0</td>\n",
              "      <td>0</td>\n",
              "      <td>...</td>\n",
              "      <td>0</td>\n",
              "      <td>0</td>\n",
              "      <td>0</td>\n",
              "      <td>0</td>\n",
              "      <td>0</td>\n",
              "      <td>0</td>\n",
              "      <td>0</td>\n",
              "      <td>0</td>\n",
              "      <td>0</td>\n",
              "      <td>0</td>\n",
              "    </tr>\n",
              "    <tr>\n",
              "      <th>33604</th>\n",
              "      <td>2</td>\n",
              "      <td>0</td>\n",
              "      <td>0</td>\n",
              "      <td>0</td>\n",
              "      <td>0</td>\n",
              "      <td>0</td>\n",
              "      <td>0</td>\n",
              "      <td>0</td>\n",
              "      <td>0</td>\n",
              "      <td>0</td>\n",
              "      <td>...</td>\n",
              "      <td>0</td>\n",
              "      <td>0</td>\n",
              "      <td>0</td>\n",
              "      <td>0</td>\n",
              "      <td>0</td>\n",
              "      <td>0</td>\n",
              "      <td>0</td>\n",
              "      <td>0</td>\n",
              "      <td>0</td>\n",
              "      <td>0</td>\n",
              "    </tr>\n",
              "  </tbody>\n",
              "</table>\n",
              "<p>5 rows × 785 columns</p>\n",
              "</div>\n",
              "    <div class=\"colab-df-buttons\">\n",
              "\n",
              "  <div class=\"colab-df-container\">\n",
              "    <button class=\"colab-df-convert\" onclick=\"convertToInteractive('df-2f511525-cb76-4444-a111-d2fc478b3e18')\"\n",
              "            title=\"Convert this dataframe to an interactive table.\"\n",
              "            style=\"display:none;\">\n",
              "\n",
              "  <svg xmlns=\"http://www.w3.org/2000/svg\" height=\"24px\" viewBox=\"0 -960 960 960\">\n",
              "    <path d=\"M120-120v-720h720v720H120Zm60-500h600v-160H180v160Zm220 220h160v-160H400v160Zm0 220h160v-160H400v160ZM180-400h160v-160H180v160Zm440 0h160v-160H620v160ZM180-180h160v-160H180v160Zm440 0h160v-160H620v160Z\"/>\n",
              "  </svg>\n",
              "    </button>\n",
              "\n",
              "  <style>\n",
              "    .colab-df-container {\n",
              "      display:flex;\n",
              "      gap: 12px;\n",
              "    }\n",
              "\n",
              "    .colab-df-convert {\n",
              "      background-color: #E8F0FE;\n",
              "      border: none;\n",
              "      border-radius: 50%;\n",
              "      cursor: pointer;\n",
              "      display: none;\n",
              "      fill: #1967D2;\n",
              "      height: 32px;\n",
              "      padding: 0 0 0 0;\n",
              "      width: 32px;\n",
              "    }\n",
              "\n",
              "    .colab-df-convert:hover {\n",
              "      background-color: #E2EBFA;\n",
              "      box-shadow: 0px 1px 2px rgba(60, 64, 67, 0.3), 0px 1px 3px 1px rgba(60, 64, 67, 0.15);\n",
              "      fill: #174EA6;\n",
              "    }\n",
              "\n",
              "    .colab-df-buttons div {\n",
              "      margin-bottom: 4px;\n",
              "    }\n",
              "\n",
              "    [theme=dark] .colab-df-convert {\n",
              "      background-color: #3B4455;\n",
              "      fill: #D2E3FC;\n",
              "    }\n",
              "\n",
              "    [theme=dark] .colab-df-convert:hover {\n",
              "      background-color: #434B5C;\n",
              "      box-shadow: 0px 1px 3px 1px rgba(0, 0, 0, 0.15);\n",
              "      filter: drop-shadow(0px 1px 2px rgba(0, 0, 0, 0.3));\n",
              "      fill: #FFFFFF;\n",
              "    }\n",
              "  </style>\n",
              "\n",
              "    <script>\n",
              "      const buttonEl =\n",
              "        document.querySelector('#df-2f511525-cb76-4444-a111-d2fc478b3e18 button.colab-df-convert');\n",
              "      buttonEl.style.display =\n",
              "        google.colab.kernel.accessAllowed ? 'block' : 'none';\n",
              "\n",
              "      async function convertToInteractive(key) {\n",
              "        const element = document.querySelector('#df-2f511525-cb76-4444-a111-d2fc478b3e18');\n",
              "        const dataTable =\n",
              "          await google.colab.kernel.invokeFunction('convertToInteractive',\n",
              "                                                    [key], {});\n",
              "        if (!dataTable) return;\n",
              "\n",
              "        const docLinkHtml = 'Like what you see? Visit the ' +\n",
              "          '<a target=\"_blank\" href=https://colab.research.google.com/notebooks/data_table.ipynb>data table notebook</a>'\n",
              "          + ' to learn more about interactive tables.';\n",
              "        element.innerHTML = '';\n",
              "        dataTable['output_type'] = 'display_data';\n",
              "        await google.colab.output.renderOutput(dataTable, element);\n",
              "        const docLink = document.createElement('div');\n",
              "        docLink.innerHTML = docLinkHtml;\n",
              "        element.appendChild(docLink);\n",
              "      }\n",
              "    </script>\n",
              "  </div>\n",
              "\n",
              "\n",
              "<div id=\"df-5abfc0f3-fb2d-4d87-a76c-5bc4394fccb7\">\n",
              "  <button class=\"colab-df-quickchart\" onclick=\"quickchart('df-5abfc0f3-fb2d-4d87-a76c-5bc4394fccb7')\"\n",
              "            title=\"Suggest charts.\"\n",
              "            style=\"display:none;\">\n",
              "\n",
              "<svg xmlns=\"http://www.w3.org/2000/svg\" height=\"24px\"viewBox=\"0 0 24 24\"\n",
              "     width=\"24px\">\n",
              "    <g>\n",
              "        <path d=\"M19 3H5c-1.1 0-2 .9-2 2v14c0 1.1.9 2 2 2h14c1.1 0 2-.9 2-2V5c0-1.1-.9-2-2-2zM9 17H7v-7h2v7zm4 0h-2V7h2v10zm4 0h-2v-4h2v4z\"/>\n",
              "    </g>\n",
              "</svg>\n",
              "  </button>\n",
              "\n",
              "<style>\n",
              "  .colab-df-quickchart {\n",
              "      --bg-color: #E8F0FE;\n",
              "      --fill-color: #1967D2;\n",
              "      --hover-bg-color: #E2EBFA;\n",
              "      --hover-fill-color: #174EA6;\n",
              "      --disabled-fill-color: #AAA;\n",
              "      --disabled-bg-color: #DDD;\n",
              "  }\n",
              "\n",
              "  [theme=dark] .colab-df-quickchart {\n",
              "      --bg-color: #3B4455;\n",
              "      --fill-color: #D2E3FC;\n",
              "      --hover-bg-color: #434B5C;\n",
              "      --hover-fill-color: #FFFFFF;\n",
              "      --disabled-bg-color: #3B4455;\n",
              "      --disabled-fill-color: #666;\n",
              "  }\n",
              "\n",
              "  .colab-df-quickchart {\n",
              "    background-color: var(--bg-color);\n",
              "    border: none;\n",
              "    border-radius: 50%;\n",
              "    cursor: pointer;\n",
              "    display: none;\n",
              "    fill: var(--fill-color);\n",
              "    height: 32px;\n",
              "    padding: 0;\n",
              "    width: 32px;\n",
              "  }\n",
              "\n",
              "  .colab-df-quickchart:hover {\n",
              "    background-color: var(--hover-bg-color);\n",
              "    box-shadow: 0 1px 2px rgba(60, 64, 67, 0.3), 0 1px 3px 1px rgba(60, 64, 67, 0.15);\n",
              "    fill: var(--button-hover-fill-color);\n",
              "  }\n",
              "\n",
              "  .colab-df-quickchart-complete:disabled,\n",
              "  .colab-df-quickchart-complete:disabled:hover {\n",
              "    background-color: var(--disabled-bg-color);\n",
              "    fill: var(--disabled-fill-color);\n",
              "    box-shadow: none;\n",
              "  }\n",
              "\n",
              "  .colab-df-spinner {\n",
              "    border: 2px solid var(--fill-color);\n",
              "    border-color: transparent;\n",
              "    border-bottom-color: var(--fill-color);\n",
              "    animation:\n",
              "      spin 1s steps(1) infinite;\n",
              "  }\n",
              "\n",
              "  @keyframes spin {\n",
              "    0% {\n",
              "      border-color: transparent;\n",
              "      border-bottom-color: var(--fill-color);\n",
              "      border-left-color: var(--fill-color);\n",
              "    }\n",
              "    20% {\n",
              "      border-color: transparent;\n",
              "      border-left-color: var(--fill-color);\n",
              "      border-top-color: var(--fill-color);\n",
              "    }\n",
              "    30% {\n",
              "      border-color: transparent;\n",
              "      border-left-color: var(--fill-color);\n",
              "      border-top-color: var(--fill-color);\n",
              "      border-right-color: var(--fill-color);\n",
              "    }\n",
              "    40% {\n",
              "      border-color: transparent;\n",
              "      border-right-color: var(--fill-color);\n",
              "      border-top-color: var(--fill-color);\n",
              "    }\n",
              "    60% {\n",
              "      border-color: transparent;\n",
              "      border-right-color: var(--fill-color);\n",
              "    }\n",
              "    80% {\n",
              "      border-color: transparent;\n",
              "      border-right-color: var(--fill-color);\n",
              "      border-bottom-color: var(--fill-color);\n",
              "    }\n",
              "    90% {\n",
              "      border-color: transparent;\n",
              "      border-bottom-color: var(--fill-color);\n",
              "    }\n",
              "  }\n",
              "</style>\n",
              "\n",
              "  <script>\n",
              "    async function quickchart(key) {\n",
              "      const quickchartButtonEl =\n",
              "        document.querySelector('#' + key + ' button');\n",
              "      quickchartButtonEl.disabled = true;  // To prevent multiple clicks.\n",
              "      quickchartButtonEl.classList.add('colab-df-spinner');\n",
              "      try {\n",
              "        const charts = await google.colab.kernel.invokeFunction(\n",
              "            'suggestCharts', [key], {});\n",
              "      } catch (error) {\n",
              "        console.error('Error during call to suggestCharts:', error);\n",
              "      }\n",
              "      quickchartButtonEl.classList.remove('colab-df-spinner');\n",
              "      quickchartButtonEl.classList.add('colab-df-quickchart-complete');\n",
              "    }\n",
              "    (() => {\n",
              "      let quickchartButtonEl =\n",
              "        document.querySelector('#df-5abfc0f3-fb2d-4d87-a76c-5bc4394fccb7 button');\n",
              "      quickchartButtonEl.style.display =\n",
              "        google.colab.kernel.accessAllowed ? 'block' : 'none';\n",
              "    })();\n",
              "  </script>\n",
              "</div>\n",
              "    </div>\n",
              "  </div>\n"
            ]
          },
          "metadata": {},
          "execution_count": 8
        }
      ],
      "source": [
        "test.head()"
      ]
    },
    {
      "cell_type": "code",
      "execution_count": null,
      "metadata": {
        "colab": {
          "base_uri": "https://localhost:8080/"
        },
        "id": "mWcYr70A-yWd",
        "outputId": "53a8d6e4-7faf-4e04-b5f8-a7b6732b9239"
      },
      "outputs": [
        {
          "output_type": "execute_result",
          "data": {
            "text/plain": [
              "(8400, 785)"
            ]
          },
          "metadata": {},
          "execution_count": 9
        }
      ],
      "source": [
        "test.shape"
      ]
    },
    {
      "cell_type": "markdown",
      "source": [
        "<h3> Preprocossing of the data given </h3>"
      ],
      "metadata": {
        "id": "x1e-oT0eEYT9"
      }
    },
    {
      "cell_type": "code",
      "execution_count": null,
      "metadata": {
        "execution": {
          "iopub.execute_input": "2023-10-03T16:55:41.018356Z",
          "iopub.status.busy": "2023-10-03T16:55:41.017949Z",
          "iopub.status.idle": "2023-10-03T16:55:41.250955Z",
          "shell.execute_reply": "2023-10-03T16:55:41.249826Z",
          "shell.execute_reply.started": "2023-10-03T16:55:41.018323Z"
        },
        "trusted": true,
        "colab": {
          "base_uri": "https://localhost:8080/"
        },
        "id": "jB0a_oda-yWe",
        "outputId": "71198a1f-36ce-4804-b268-927168e86862"
      },
      "outputs": [
        {
          "output_type": "execute_result",
          "data": {
            "text/plain": [
              "((33600, 784), (33600,), (8400, 784), (8400,))"
            ]
          },
          "metadata": {},
          "execution_count": 10
        }
      ],
      "source": [
        "y_train = train['label'].astype('float32')\n",
        "x_train = train.drop(['label'],axis = 1).astype('int32')\n",
        "y_test = test['label'].astype('float32')\n",
        "x_test = test.drop(['label'],axis = 1).astype('float32')\n",
        "x_train.shape, y_train.shape, x_test.shape, y_test.shape"
      ]
    },
    {
      "cell_type": "code",
      "execution_count": null,
      "metadata": {
        "execution": {
          "iopub.execute_input": "2023-10-03T16:55:43.596118Z",
          "iopub.status.busy": "2023-10-03T16:55:43.595497Z",
          "iopub.status.idle": "2023-10-03T16:55:43.737083Z",
          "shell.execute_reply": "2023-10-03T16:55:43.735921Z",
          "shell.execute_reply.started": "2023-10-03T16:55:43.596083Z"
        },
        "trusted": true,
        "colab": {
          "base_uri": "https://localhost:8080/"
        },
        "id": "mcQf2drc-yWe",
        "outputId": "8ec6f218-c110-4666-982a-ef8d52c050c2"
      },
      "outputs": [
        {
          "output_type": "execute_result",
          "data": {
            "text/plain": [
              "((33600, 28, 28, 1), (8400, 28, 28, 1))"
            ]
          },
          "metadata": {},
          "execution_count": 11
        }
      ],
      "source": [
        "x_train = x_train.values.reshape(-1,28,28,1)\n",
        "x_train = x_train / 255.0\n",
        "x_test = x_test.values.reshape(-1,28,28,1)\n",
        "x_test = x_test / 255.0\n",
        "x_train.shape, x_test.shape"
      ]
    },
    {
      "cell_type": "markdown",
      "source": [
        "<h3>Handwrittern data stored in dataset-></h3>"
      ],
      "metadata": {
        "id": "8lOutCN1EnIv"
      }
    },
    {
      "cell_type": "code",
      "execution_count": null,
      "metadata": {
        "execution": {
          "iopub.execute_input": "2023-08-15T18:16:49.091372Z",
          "iopub.status.busy": "2023-08-15T18:16:49.090999Z",
          "iopub.status.idle": "2023-08-15T18:16:49.988222Z",
          "shell.execute_reply": "2023-08-15T18:16:49.987239Z",
          "shell.execute_reply.started": "2023-08-15T18:16:49.091343Z"
        },
        "trusted": true,
        "colab": {
          "base_uri": "https://localhost:8080/",
          "height": 307
        },
        "id": "QFDL_H-2-yWe",
        "outputId": "4c269c2e-33b1-4f6e-8cdb-90c9c74105d1"
      },
      "outputs": [
        {
          "output_type": "display_data",
          "data": {
            "text/plain": [
              "<Figure size 1400x300 with 50 Axes>"
            ],
            "image/png": "[encoded data removed]"
          },
          "metadata": {}
        }
      ],
      "source": [
        "plt.figure(figsize=(14, 3), tight_layout=True, facecolor=\"white\")\n",
        "\n",
        "for idx, digit in enumerate(x_train[:50]):\n",
        "    plt.subplot(5, 10, idx + 1)\n",
        "    plt.imshow(digit, cmap=\"binary\")\n",
        "    plt.axis(\"off\")\n",
        "\n",
        "plt.show()"
      ]
    },
    {
      "cell_type": "markdown",
      "source": [
        "<h3>Categorising the numbers of labels possible</h3>"
      ],
      "metadata": {
        "id": "HoAQhy9rE57j"
      }
    },
    {
      "cell_type": "code",
      "execution_count": null,
      "metadata": {
        "execution": {
          "iopub.execute_input": "2023-10-03T16:55:47.447277Z",
          "iopub.status.busy": "2023-10-03T16:55:47.446774Z",
          "iopub.status.idle": "2023-10-03T16:55:47.456646Z",
          "shell.execute_reply": "2023-10-03T16:55:47.455631Z",
          "shell.execute_reply.started": "2023-10-03T16:55:47.447241Z"
        },
        "trusted": true,
        "colab": {
          "base_uri": "https://localhost:8080/"
        },
        "id": "W856BTGR-yWf",
        "outputId": "0256d679-5479-427e-e764-b1a5175a98bb"
      },
      "outputs": [
        {
          "output_type": "execute_result",
          "data": {
            "text/plain": [
              "((33600, 10), (8400, 10))"
            ]
          },
          "metadata": {},
          "execution_count": 13
        }
      ],
      "source": [
        "y_train = tf.keras.utils.to_categorical(y_train,10)\n",
        "y_test = tf.keras.utils.to_categorical(y_test,10)\n",
        "y_train.shape, y_test.shape"
      ]
    },
    {
      "cell_type": "markdown",
      "source": [
        "<h3> Callback if accuracy reaches or exceeds 99.9%"
      ],
      "metadata": {
        "id": "BY_etobQFQMt"
      }
    },
    {
      "cell_type": "code",
      "execution_count": null,
      "metadata": {
        "id": "7TWouMri-yWf"
      },
      "outputs": [],
      "source": [
        "#Defining the callback function to stop our training once the acceptable accuracy is reached\n",
        "class myCallback(tf.keras.callbacks.Callback):\n",
        "        def on_epoch_end(self, epoch, logs={}):\n",
        "            if(logs.get('accuracy') > 0.999):\n",
        "                print(\"\\nReached 99.9% accuracy so cancelling training!\")\n",
        "                self.model.stop_training = True\n",
        "\n",
        "callbacks = myCallback()"
      ]
    },
    {
      "cell_type": "markdown",
      "source": [
        "#<h1>Models Used</h1>\n",
        "\n",
        "1.   Simple Self Made CNN\n",
        "2.   ResNet\n",
        "3.   VGG-Net\n",
        "4.   InceptionNet\n",
        "5.   ResNet\n",
        "6.   LeNet-5\n",
        "\n",
        "\n"
      ],
      "metadata": {
        "id": "C1ECWfC-Ft2r"
      }
    },
    {
      "cell_type": "markdown",
      "metadata": {
        "id": "b4q3TT-p-yWf"
      },
      "source": [
        "1. **CNN**"
      ]
    },
    {
      "cell_type": "code",
      "execution_count": null,
      "metadata": {
        "execution": {
          "iopub.execute_input": "2023-08-15T18:21:19.226225Z",
          "iopub.status.busy": "2023-08-15T18:21:19.225814Z",
          "iopub.status.idle": "2023-08-15T18:21:19.461411Z",
          "shell.execute_reply": "2023-08-15T18:21:19.460276Z",
          "shell.execute_reply.started": "2023-08-15T18:21:19.226173Z"
        },
        "trusted": true,
        "colab": {
          "base_uri": "https://localhost:8080/"
        },
        "id": "kqaxLkVg-yWf",
        "outputId": "8c3c4496-6d5b-4762-fc85-ceb96687482b"
      },
      "outputs": [
        {
          "output_type": "stream",
          "name": "stdout",
          "text": [
            "Model: \"sequential\"\n",
            "_________________________________________________________________\n",
            " Layer (type)                Output Shape              Param #   \n",
            "=================================================================\n",
            " conv2d (Conv2D)             (None, 26, 26, 64)        640       \n",
            "                                                                 \n",
            " batch_normalization (Batch  (None, 26, 26, 64)        256       \n",
            " Normalization)                                                  \n",
            "                                                                 \n",
            " conv2d_1 (Conv2D)           (None, 24, 24, 64)        36928     \n",
            "                                                                 \n",
            " batch_normalization_1 (Bat  (None, 24, 24, 64)        256       \n",
            " chNormalization)                                                \n",
            "                                                                 \n",
            " max_pooling2d (MaxPooling2  (None, 12, 12, 64)        0         \n",
            " D)                                                              \n",
            "                                                                 \n",
            " conv2d_2 (Conv2D)           (None, 10, 10, 128)       73856     \n",
            "                                                                 \n",
            " batch_normalization_2 (Bat  (None, 10, 10, 128)       512       \n",
            " chNormalization)                                                \n",
            "                                                                 \n",
            " conv2d_3 (Conv2D)           (None, 8, 8, 128)         147584    \n",
            "                                                                 \n",
            " batch_normalization_3 (Bat  (None, 8, 8, 128)         512       \n",
            " chNormalization)                                                \n",
            "                                                                 \n",
            " max_pooling2d_1 (MaxPoolin  (None, 4, 4, 128)         0         \n",
            " g2D)                                                            \n",
            "                                                                 \n",
            " flatten (Flatten)           (None, 2048)              0         \n",
            "                                                                 \n",
            " dense (Dense)               (None, 256)               524544    \n",
            "                                                                 \n",
            " batch_normalization_4 (Bat  (None, 256)               1024      \n",
            " chNormalization)                                                \n",
            "                                                                 \n",
            " dropout (Dropout)           (None, 256)               0         \n",
            "                                                                 \n",
            " dense_1 (Dense)             (None, 256)               65792     \n",
            "                                                                 \n",
            " batch_normalization_5 (Bat  (None, 256)               1024      \n",
            " chNormalization)                                                \n",
            "                                                                 \n",
            " dropout_1 (Dropout)         (None, 256)               0         \n",
            "                                                                 \n",
            " dense_2 (Dense)             (None, 10)                2570      \n",
            "                                                                 \n",
            "=================================================================\n",
            "Total params: 855498 (3.26 MB)\n",
            "Trainable params: 853706 (3.26 MB)\n",
            "Non-trainable params: 1792 (7.00 KB)\n",
            "_________________________________________________________________\n"
          ]
        }
      ],
      "source": [
        "CNNmodel = tf.keras.models.Sequential([\n",
        "    tf.keras.layers.Conv2D(64, (3,3), activation='relu', input_shape=(28, 28, 1)),\n",
        "    tf.keras.layers.BatchNormalization(),\n",
        "    tf.keras.layers.Conv2D(64, (3,3), activation='relu'),\n",
        "    tf.keras.layers.BatchNormalization(),\n",
        "    tf.keras.layers.MaxPooling2D(pool_size=(2,2)),\n",
        "    tf.keras.layers.Conv2D(128, (3,3), activation='relu'),\n",
        "    tf.keras.layers.BatchNormalization(),\n",
        "    tf.keras.layers.Conv2D(128, (3,3), activation='relu'),\n",
        "    tf.keras.layers.BatchNormalization(),\n",
        "    tf.keras.layers.MaxPooling2D(pool_size=(2,2)),\n",
        "    tf.keras.layers.Flatten(),\n",
        "    tf.keras.layers.Dense(256, activation='relu'),\n",
        "    tf.keras.layers.BatchNormalization(),\n",
        "    tf.keras.layers.Dropout(0.5),\n",
        "    tf.keras.layers.Dense(256, activation='relu'),\n",
        "    tf.keras.layers.BatchNormalization(),\n",
        "    tf.keras.layers.Dropout(0.5),\n",
        "    tf.keras.layers.Dense(10, activation='softmax')\n",
        "])\n",
        "\n",
        "CNNmodel.compile(optimizer='adam', loss='categorical_crossentropy', metrics=['accuracy'])\n",
        "\n",
        "CNNmodel.summary()\n"
      ]
    },
    {
      "cell_type": "code",
      "execution_count": null,
      "metadata": {
        "colab": {
          "base_uri": "https://localhost:8080/"
        },
        "id": "rAt3g03r-yWg",
        "outputId": "0b99e998-28b8-4230-eadb-cd2e8e6ad09f"
      },
      "outputs": [
        {
          "output_type": "stream",
          "name": "stdout",
          "text": [
            "Epoch 1/20\n",
            "672/672 [==============================] - 23s 9ms/step - loss: 0.2704 - accuracy: 0.9201\n",
            "Epoch 2/20\n",
            "672/672 [==============================] - 5s 8ms/step - loss: 0.0925 - accuracy: 0.9716\n",
            "Epoch 3/20\n",
            "672/672 [==============================] - 5s 8ms/step - loss: 0.0652 - accuracy: 0.9800\n",
            "Epoch 4/20\n",
            "672/672 [==============================] - 6s 8ms/step - loss: 0.0525 - accuracy: 0.9843\n",
            "Epoch 5/20\n",
            "672/672 [==============================] - 5s 8ms/step - loss: 0.0481 - accuracy: 0.9854\n",
            "Epoch 6/20\n",
            "672/672 [==============================] - 6s 9ms/step - loss: 0.0404 - accuracy: 0.9873\n",
            "Epoch 7/20\n",
            "672/672 [==============================] - 5s 8ms/step - loss: 0.0346 - accuracy: 0.9893\n",
            "Epoch 8/20\n",
            "672/672 [==============================] - 5s 8ms/step - loss: 0.0335 - accuracy: 0.9894\n",
            "Epoch 9/20\n",
            "672/672 [==============================] - 6s 8ms/step - loss: 0.0301 - accuracy: 0.9904\n",
            "Epoch 10/20\n",
            "672/672 [==============================] - 5s 8ms/step - loss: 0.0277 - accuracy: 0.9916\n",
            "Epoch 11/20\n",
            "672/672 [==============================] - 6s 9ms/step - loss: 0.0230 - accuracy: 0.9925\n",
            "Epoch 12/20\n",
            "672/672 [==============================] - 5s 8ms/step - loss: 0.0221 - accuracy: 0.9929\n",
            "Epoch 13/20\n",
            "672/672 [==============================] - 5s 8ms/step - loss: 0.0188 - accuracy: 0.9946\n",
            "Epoch 14/20\n",
            "672/672 [==============================] - 6s 8ms/step - loss: 0.0189 - accuracy: 0.9938\n",
            "Epoch 15/20\n",
            "672/672 [==============================] - 5s 8ms/step - loss: 0.0174 - accuracy: 0.9947\n",
            "Epoch 16/20\n",
            "672/672 [==============================] - 6s 9ms/step - loss: 0.0132 - accuracy: 0.9954\n",
            "Epoch 17/20\n",
            "672/672 [==============================] - 5s 8ms/step - loss: 0.0118 - accuracy: 0.9960\n",
            "Epoch 18/20\n",
            "672/672 [==============================] - 5s 8ms/step - loss: 0.0123 - accuracy: 0.9960\n",
            "Epoch 19/20\n",
            "672/672 [==============================] - 7s 10ms/step - loss: 0.0115 - accuracy: 0.9962\n",
            "Epoch 20/20\n",
            "672/672 [==============================] - 5s 8ms/step - loss: 0.0115 - accuracy: 0.9960\n",
            "263/263 [==============================] - 1s 4ms/step - loss: 0.0318 - accuracy: 0.9938\n"
          ]
        }
      ],
      "source": [
        "\n",
        "#Compiling and model training with batch size = 50, epochs = 20, and optimizer = adam\n",
        "Optimizer = tf.keras.optimizers.Adam(\n",
        "            learning_rate=0.0005,\n",
        "            beta_1=0.9,\n",
        "            beta_2=0.999,\n",
        "            epsilon=1e-07,\n",
        "            name='Adam'\n",
        ")\n",
        "CNNmodel.compile(optimizer=Optimizer, loss='categorical_crossentropy', metrics=['accuracy'])\n",
        "start_time = time.time()\n",
        "CNNmodel.fit(x_train, y_train, batch_size = 50, epochs = 20, callbacks=[callbacks])\n",
        "end_time = time.time()\n",
        "CNNtraining_time = end_time - start_time\n",
        "\n",
        "# Evaluation\n",
        "start_time = time.time()\n",
        "# Evaluate the model on the training data\n",
        "train_loss, CNN_accuracy = CNNmodel.evaluate(x_test,y_test)\n",
        "end_time = time.time()\n",
        "CNNevaluation_time = end_time - start_time\n",
        "\n"
      ]
    },
    {
      "cell_type": "markdown",
      "source": [
        "Accuracy and time taken for the given Model"
      ],
      "metadata": {
        "id": "Mqivm1b4PZkI"
      }
    },
    {
      "cell_type": "code",
      "source": [
        "print(f'Training Time: {CNNtraining_time} seconds')\n",
        "print(f'Evaluation Time: {CNNevaluation_time} seconds')\n",
        "# Print the training accuracy\n",
        "print(f'Testing Accuracy: {CNN_accuracy}')"
      ],
      "metadata": {
        "colab": {
          "base_uri": "https://localhost:8080/"
        },
        "id": "edL5CaByPUfE",
        "outputId": "41ffe964-29e6-4c70-e8e1-65f8323b90e6"
      },
      "execution_count": null,
      "outputs": [
        {
          "output_type": "stream",
          "name": "stdout",
          "text": [
            "Training Time: 144.26873779296875 seconds\n",
            "Evaluation Time: 1.5175960063934326 seconds\n",
            "Training Accuracy: 0.9938095211982727\n"
          ]
        }
      ]
    },
    {
      "cell_type": "code",
      "execution_count": null,
      "metadata": {
        "colab": {
          "base_uri": "https://localhost:8080/"
        },
        "id": "jfCmOd_w-yWg",
        "outputId": "bcb57076-6524-445a-ea94-e591167960bb"
      },
      "outputs": [
        {
          "output_type": "stream",
          "name": "stdout",
          "text": [
            "263/263 [==============================] - 1s 2ms/step\n"
          ]
        }
      ],
      "source": [
        "CNNresults = CNNmodel.predict(x_test)\n",
        "\n",
        "# select the index with the maximum probability\n",
        "CNNresults = np.argmax(CNNresults,axis = 1)\n",
        "\n",
        "CNNresults = pd.Series(CNNresults,name=\"Label\")"
      ]
    },
    {
      "cell_type": "code",
      "execution_count": null,
      "metadata": {
        "colab": {
          "base_uri": "https://localhost:8080/",
          "height": 556
        },
        "id": "FFTncoYr-yWg",
        "outputId": "a3fb57a1-0c1b-48f5-d3ed-3fe96ea5c225"
      },
      "outputs": [
        {
          "output_type": "stream",
          "name": "stdout",
          "text": [
            "True Positives (TP): 800\n",
            "True Negatives (TN): 7585\n",
            "False Positives (FP): 7\n",
            "False Negatives (FN): 0\n"
          ]
        },
        {
          "output_type": "display_data",
          "data": {
            "text/plain": [
              "<Figure size 640x480 with 1 Axes>"
            ],
            "image/png": "[encoded data removed]"
          },
          "metadata": {}
        }
      ],
      "source": [
        "# Assuming 'Lenetresults' contains raw class predictions (not one-hot encoded)\n",
        "y_pred = pd.Series(CNNresults, name=\"Label\")\n",
        "y_pred = tf.keras.utils.to_categorical(y_pred,10)\n",
        "# Convert 'y_true' and 'y_pred' to their original class label format\n",
        "y_true_class = np.argmax(y_test, axis=1)\n",
        "y_pred_class = np.argmax(y_pred, axis=1)\n",
        "\n",
        "# Compute the confusion matrix\n",
        "confusion_matrix = metrics.confusion_matrix(y_true_class, y_pred_class)\n",
        "\n",
        "# Calculate TP, TN, FP, FN as before\n",
        "TP = confusion_matrix[2, 2]\n",
        "TN = confusion_matrix[:2, :2].sum() + confusion_matrix[:2, 3:].sum() + confusion_matrix[3:, :2].sum() + confusion_matrix[3:, 3:].sum()\n",
        "FP = confusion_matrix[0, 2] + confusion_matrix[1, 2] + confusion_matrix[3, 2] + confusion_matrix[4, 2]\n",
        "FN = confusion_matrix[2, 0] + confusion_matrix[2, 1] + confusion_matrix[2, 3] + confusion_matrix[2, 4]\n",
        "\n",
        "# Rest of your code for creating the confusion matrix plot\n",
        "\n",
        "\n",
        "\n",
        "print(\"True Positives (TP):\", TP)\n",
        "print(\"True Negatives (TN):\", TN)\n",
        "print(\"False Positives (FP):\", FP)\n",
        "print(\"False Negatives (FN):\", FN)\n",
        "\n",
        "# create confusion matrix plot\n",
        "labels = [0, 1, 2, 3, 4, 5, 6, 7, 8, 9]  # all possible labels\n",
        "fig, ax = plt.subplots()\n",
        "im = ax.imshow(confusion_matrix, cmap='Blues')\n",
        "\n",
        "# set tick labels and locations\n",
        "ax.set_xticks(np.arange(len(labels)))\n",
        "ax.set_yticks(np.arange(len(labels)))\n",
        "ax.set_xticklabels(labels)\n",
        "ax.set_yticklabels(labels)\n",
        "\n",
        "# Rotate the tick labels and set their alignment.\n",
        "plt.setp(ax.get_xticklabels(), rotation=45, ha=\"right\",\n",
        "         rotation_mode=\"anchor\")\n",
        "\n",
        "# loop over data dimensions and create text annotations.\n",
        "for i in range(len(labels)):\n",
        "    for j in range(len(labels)):\n",
        "        text = ax.text(j, i, confusion_matrix[i, j],\n",
        "                       ha=\"center\", va=\"center\", color=\"black\")\n",
        "\n",
        "ax.set_title(\"Confusion Matrix\")\n",
        "ax.set_xlabel('Predicted label')\n",
        "ax.set_ylabel('True label')\n",
        "fig.tight_layout()\n",
        "plt.show()\n"
      ]
    },
    {
      "cell_type": "markdown",
      "metadata": {
        "id": "Ui_emCOb-yWg"
      },
      "source": [
        "2. **RNN**"
      ]
    },
    {
      "cell_type": "code",
      "execution_count": null,
      "metadata": {
        "colab": {
          "base_uri": "https://localhost:8080/"
        },
        "id": "aqnwr4b1-yWg",
        "outputId": "29db1e82-37c3-4300-f7b3-d65bf2ed2fe0"
      },
      "outputs": [
        {
          "output_type": "stream",
          "name": "stdout",
          "text": [
            "Model: \"sequential_1\"\n",
            "_________________________________________________________________\n",
            " Layer (type)                Output Shape              Param #   \n",
            "=================================================================\n",
            " lstm (LSTM)                 (None, 28, 128)           80384     \n",
            "                                                                 \n",
            " lstm_1 (LSTM)               (None, 128)               131584    \n",
            "                                                                 \n",
            " dense_3 (Dense)             (None, 10)                1290      \n",
            "                                                                 \n",
            "=================================================================\n",
            "Total params: 213258 (833.04 KB)\n",
            "Trainable params: 213258 (833.04 KB)\n",
            "Non-trainable params: 0 (0.00 Byte)\n",
            "_________________________________________________________________\n"
          ]
        }
      ],
      "source": [
        "\n",
        "# Define the model architecture\n",
        "RNNmodel = tf.keras.models.Sequential([\n",
        "    tf.keras.layers.LSTM(128, input_shape=(28, 28), return_sequences=True),  # Add return_sequences=True for sequence output\n",
        "    tf.keras.layers.LSTM(128),  # You can add additional LSTM layers if needed\n",
        "    tf.keras.layers.Dense(10, activation='softmax')\n",
        "])\n",
        "\n",
        "RNNmodel.compile(optimizer='adam', loss='categorical_crossentropy', metrics=['accuracy'])\n",
        "\n",
        "RNNmodel.summary()\n"
      ]
    },
    {
      "cell_type": "code",
      "execution_count": null,
      "metadata": {
        "colab": {
          "base_uri": "https://localhost:8080/"
        },
        "id": "FLA7aeS_-yWh",
        "outputId": "807bd156-2fb8-4e1e-a469-a56661382eb9"
      },
      "outputs": [
        {
          "output_type": "stream",
          "name": "stdout",
          "text": [
            "Epoch 1/20\n",
            "672/672 [==============================] - 9s 7ms/step - loss: 0.5405 - accuracy: 0.8221\n",
            "Epoch 2/20\n",
            "672/672 [==============================] - 4s 6ms/step - loss: 0.1673 - accuracy: 0.9479\n",
            "Epoch 3/20\n",
            "672/672 [==============================] - 4s 6ms/step - loss: 0.1114 - accuracy: 0.9655\n",
            "Epoch 4/20\n",
            "672/672 [==============================] - 5s 7ms/step - loss: 0.0865 - accuracy: 0.9731\n",
            "Epoch 5/20\n",
            "672/672 [==============================] - 4s 6ms/step - loss: 0.0692 - accuracy: 0.9783\n",
            "Epoch 6/20\n",
            "672/672 [==============================] - 4s 6ms/step - loss: 0.0561 - accuracy: 0.9821\n",
            "Epoch 7/20\n",
            "672/672 [==============================] - 5s 7ms/step - loss: 0.0466 - accuracy: 0.9853\n",
            "Epoch 8/20\n",
            "672/672 [==============================] - 4s 6ms/step - loss: 0.0406 - accuracy: 0.9874\n",
            "Epoch 9/20\n",
            "672/672 [==============================] - 4s 6ms/step - loss: 0.0358 - accuracy: 0.9883\n",
            "Epoch 10/20\n",
            "672/672 [==============================] - 5s 7ms/step - loss: 0.0327 - accuracy: 0.9901\n",
            "Epoch 11/20\n",
            "672/672 [==============================] - 4s 6ms/step - loss: 0.0264 - accuracy: 0.9922\n",
            "Epoch 12/20\n",
            "672/672 [==============================] - 4s 6ms/step - loss: 0.0221 - accuracy: 0.9932\n",
            "Epoch 13/20\n",
            "672/672 [==============================] - 5s 7ms/step - loss: 0.0239 - accuracy: 0.9923\n",
            "Epoch 14/20\n",
            "672/672 [==============================] - 4s 6ms/step - loss: 0.0214 - accuracy: 0.9935\n",
            "Epoch 15/20\n",
            "672/672 [==============================] - 4s 6ms/step - loss: 0.0193 - accuracy: 0.9938\n",
            "Epoch 16/20\n",
            "672/672 [==============================] - 4s 7ms/step - loss: 0.0152 - accuracy: 0.9952\n",
            "Epoch 17/20\n",
            "672/672 [==============================] - 5s 8ms/step - loss: 0.0163 - accuracy: 0.9948\n",
            "Epoch 18/20\n",
            "672/672 [==============================] - 4s 6ms/step - loss: 0.0152 - accuracy: 0.9951\n",
            "Epoch 19/20\n",
            "672/672 [==============================] - 5s 7ms/step - loss: 0.0120 - accuracy: 0.9963\n",
            "Epoch 20/20\n",
            "672/672 [==============================] - 4s 7ms/step - loss: 0.0132 - accuracy: 0.9960\n",
            "263/263 [==============================] - 2s 5ms/step - loss: 0.0529 - accuracy: 0.9863\n"
          ]
        }
      ],
      "source": [
        "\n",
        "#Compiling and model training with batch size = 50, epochs = 20, and optimizer = adam\n",
        "Optimizer = tf.keras.optimizers.Adam(\n",
        "            learning_rate=0.0005,\n",
        "            beta_1=0.9,\n",
        "            beta_2=0.999,\n",
        "            epsilon=1e-07,\n",
        "            name='Adam'\n",
        ")\n",
        "RNNmodel.compile(optimizer=Optimizer, loss='categorical_crossentropy', metrics=['accuracy'])\n",
        "start_time = time.time()\n",
        "RNNmodel.fit(x_train, y_train, batch_size = 50, epochs = 20, callbacks=[callbacks])\n",
        "end_time = time.time()\n",
        "RNNtraining_time = end_time - start_time\n",
        "\n",
        "# Evaluation\n",
        "start_time = time.time()\n",
        "# Evaluate the model on the training data\n",
        "train_loss, RNN_accuracy = RNNmodel.evaluate(x_test,y_test)\n",
        "end_time = time.time()\n",
        "RNNevaluation_time = end_time - start_time\n",
        "\n"
      ]
    },
    {
      "cell_type": "markdown",
      "source": [
        "Accuracy and time taken for the given Model\n"
      ],
      "metadata": {
        "id": "Z_S886cHikn_"
      }
    },
    {
      "cell_type": "code",
      "source": [
        "print(f'Training Time: {RNNtraining_time} seconds')\n",
        "print(f'Evaluation Time: {RNNevaluation_time} seconds')\n",
        "# Print the training accuracy\n",
        "print(f'Training Accuracy: {RNN_accuracy}')"
      ],
      "metadata": {
        "colab": {
          "base_uri": "https://localhost:8080/"
        },
        "id": "WATtsI4eRtr-",
        "outputId": "ecde0158-8998-41d6-fdd6-be6212ee7a78"
      },
      "execution_count": null,
      "outputs": [
        {
          "output_type": "stream",
          "name": "stdout",
          "text": [
            "Training Time: 144.74764728546143 seconds\n",
            "Evaluation Time: 1.9536161422729492 seconds\n",
            "Training Accuracy: 0.9863095283508301\n"
          ]
        }
      ]
    },
    {
      "cell_type": "code",
      "execution_count": null,
      "metadata": {
        "colab": {
          "base_uri": "https://localhost:8080/"
        },
        "id": "zzpUEoYi-yWh",
        "outputId": "cee47f6f-d960-4093-88f2-f84835b0f12b"
      },
      "outputs": [
        {
          "output_type": "stream",
          "name": "stdout",
          "text": [
            "263/263 [==============================] - 1s 3ms/step\n"
          ]
        }
      ],
      "source": [
        "RNNresults = RNNmodel.predict(x_test)\n",
        "\n",
        "# select the index with the maximum probability\n",
        "RNNresults = np.argmax(RNNresults,axis = 1)\n",
        "\n",
        "RNNresults = pd.Series(RNNresults,name=\"Label\")"
      ]
    },
    {
      "cell_type": "code",
      "execution_count": null,
      "metadata": {
        "colab": {
          "base_uri": "https://localhost:8080/",
          "height": 556
        },
        "id": "hFpBBc45-yWh",
        "outputId": "d46c709e-a89a-4c9b-d268-90a6f42ed38a"
      },
      "outputs": [
        {
          "output_type": "stream",
          "name": "stdout",
          "text": [
            "True Positives (TP): 793\n",
            "True Negatives (TN): 7586\n",
            "False Positives (FP): 5\n",
            "False Negatives (FN): 4\n"
          ]
        },
        {
          "output_type": "display_data",
          "data": {
            "text/plain": [
              "<Figure size 640x480 with 1 Axes>"
            ],
            "image/png": "[encoded data removed]"
          },
          "metadata": {}
        }
      ],
      "source": [
        "# Assuming 'Lenetresults' contains raw class predictions (not one-hot encoded)\n",
        "y_pred = pd.Series(RNNresults, name=\"Label\")\n",
        "y_pred = tf.keras.utils.to_categorical(y_pred,10)\n",
        "# Convert 'y_true' and 'y_pred' to their original class label format\n",
        "y_true_class = np.argmax(y_test, axis=1)\n",
        "y_pred_class = np.argmax(y_pred, axis=1)\n",
        "\n",
        "# Compute the confusion matrix\n",
        "confusion_matrix = metrics.confusion_matrix(y_true_class, y_pred_class)\n",
        "\n",
        "# Calculate TP, TN, FP, FN as before\n",
        "TP = confusion_matrix[2, 2]\n",
        "TN = confusion_matrix[:2, :2].sum() + confusion_matrix[:2, 3:].sum() + confusion_matrix[3:, :2].sum() + confusion_matrix[3:, 3:].sum()\n",
        "FP = confusion_matrix[0, 2] + confusion_matrix[1, 2] + confusion_matrix[3, 2] + confusion_matrix[4, 2]\n",
        "FN = confusion_matrix[2, 0] + confusion_matrix[2, 1] + confusion_matrix[2, 3] + confusion_matrix[2, 4]\n",
        "\n",
        "# Rest of your code for creating the confusion matrix plot\n",
        "\n",
        "\n",
        "\n",
        "print(\"True Positives (TP):\", TP)\n",
        "print(\"True Negatives (TN):\", TN)\n",
        "print(\"False Positives (FP):\", FP)\n",
        "print(\"False Negatives (FN):\", FN)\n",
        "\n",
        "# create confusion matrix plot\n",
        "labels = [0, 1, 2, 3, 4, 5, 6, 7, 8, 9]  # all possible labels\n",
        "fig, ax = plt.subplots()\n",
        "im = ax.imshow(confusion_matrix, cmap='Blues')\n",
        "\n",
        "# set tick labels and locations\n",
        "ax.set_xticks(np.arange(len(labels)))\n",
        "ax.set_yticks(np.arange(len(labels)))\n",
        "ax.set_xticklabels(labels)\n",
        "ax.set_yticklabels(labels)\n",
        "\n",
        "# Rotate the tick labels and set their alignment.\n",
        "plt.setp(ax.get_xticklabels(), rotation=45, ha=\"right\",\n",
        "         rotation_mode=\"anchor\")\n",
        "\n",
        "# loop over data dimensions and create text annotations.\n",
        "for i in range(len(labels)):\n",
        "    for j in range(len(labels)):\n",
        "        text = ax.text(j, i, confusion_matrix[i, j],\n",
        "                       ha=\"center\", va=\"center\", color=\"black\")\n",
        "\n",
        "ax.set_title(\"Confusion Matrix\")\n",
        "ax.set_xlabel('Predicted label')\n",
        "ax.set_ylabel('True label')\n",
        "fig.tight_layout()\n",
        "plt.show()\n"
      ]
    },
    {
      "cell_type": "markdown",
      "metadata": {
        "id": "jbE1iCb7-yWh"
      },
      "source": [
        "3. **VGG-Net**"
      ]
    },
    {
      "cell_type": "code",
      "execution_count": null,
      "metadata": {
        "execution": {
          "iopub.execute_input": "2023-10-03T16:56:06.443903Z",
          "iopub.status.busy": "2023-10-03T16:56:06.443452Z",
          "iopub.status.idle": "2023-10-03T16:56:07.197641Z",
          "shell.execute_reply": "2023-10-03T16:56:07.196033Z",
          "shell.execute_reply.started": "2023-10-03T16:56:06.443837Z"
        },
        "trusted": true,
        "id": "mQV-Op3Z-yWh"
      },
      "outputs": [],
      "source": [
        "# Define your VGG-Net-like model\n",
        "VGGmodel = tf.keras.models.Sequential([\n",
        "    # Block 1\n",
        "    tf.keras.layers.Conv2D(64, (3, 3), activation='relu', padding='same', input_shape=(28, 28, 1)),\n",
        "    tf.keras.layers.Conv2D(64, (3, 3), activation='relu', padding='same'),\n",
        "    tf.keras.layers.MaxPooling2D((2, 2), strides=(2, 2)),\n",
        "\n",
        "    # Block 2\n",
        "    tf.keras.layers.Conv2D(128, (3, 3), activation='relu', padding='same'),\n",
        "    tf.keras.layers.Conv2D(128, (3, 3), activation='relu', padding='same'),\n",
        "    tf.keras.layers.MaxPooling2D((2, 2), strides=(2, 2)),\n",
        "\n",
        "    # Flatten the output of the convolutional layers\n",
        "    tf.keras.layers.Flatten(),\n",
        "\n",
        "    # Fully Connected Layers\n",
        "    tf.keras.layers.Dense(256, activation='relu'),\n",
        "    tf.keras.layers.BatchNormalization(),\n",
        "    tf.keras.layers.Dropout(0.5),\n",
        "    tf.keras.layers.Dense(256, activation='relu'),\n",
        "    tf.keras.layers.BatchNormalization(),\n",
        "    tf.keras.layers.Dropout(0.5),\n",
        "\n",
        "    # Output Layer\n",
        "    tf.keras.layers.Dense(10, activation='softmax'),\n",
        "])\n",
        "\n"
      ]
    },
    {
      "cell_type": "code",
      "execution_count": null,
      "metadata": {
        "colab": {
          "base_uri": "https://localhost:8080/"
        },
        "id": "D-N1RVpC-yWh",
        "outputId": "e3460869-8f3f-4b99-fb24-ed4a34823de9"
      },
      "outputs": [
        {
          "output_type": "stream",
          "name": "stdout",
          "text": [
            "Epoch 1/20\n",
            "672/672 [==============================] - 10s 9ms/step - loss: 0.2851 - accuracy: 0.9112\n",
            "Epoch 2/20\n",
            "672/672 [==============================] - 6s 9ms/step - loss: 0.0902 - accuracy: 0.9723\n",
            "Epoch 3/20\n",
            "672/672 [==============================] - 6s 9ms/step - loss: 0.0664 - accuracy: 0.9800\n",
            "Epoch 4/20\n",
            "672/672 [==============================] - 6s 9ms/step - loss: 0.0535 - accuracy: 0.9839\n",
            "Epoch 5/20\n",
            "672/672 [==============================] - 6s 9ms/step - loss: 0.0440 - accuracy: 0.9867\n",
            "Epoch 6/20\n",
            "672/672 [==============================] - 6s 9ms/step - loss: 0.0377 - accuracy: 0.9880\n",
            "Epoch 7/20\n",
            "672/672 [==============================] - 6s 9ms/step - loss: 0.0341 - accuracy: 0.9896\n",
            "Epoch 8/20\n",
            "672/672 [==============================] - 6s 8ms/step - loss: 0.0269 - accuracy: 0.9915\n",
            "Epoch 9/20\n",
            "672/672 [==============================] - 6s 9ms/step - loss: 0.0245 - accuracy: 0.9918\n",
            "Epoch 10/20\n",
            "672/672 [==============================] - 6s 8ms/step - loss: 0.0224 - accuracy: 0.9927\n",
            "Epoch 11/20\n",
            "672/672 [==============================] - 6s 9ms/step - loss: 0.0171 - accuracy: 0.9946\n",
            "Epoch 12/20\n",
            "672/672 [==============================] - 6s 8ms/step - loss: 0.0167 - accuracy: 0.9948\n",
            "Epoch 13/20\n",
            "672/672 [==============================] - 6s 9ms/step - loss: 0.0173 - accuracy: 0.9948\n",
            "Epoch 14/20\n",
            "672/672 [==============================] - 6s 9ms/step - loss: 0.0132 - accuracy: 0.9959\n",
            "Epoch 15/20\n",
            "672/672 [==============================] - 6s 8ms/step - loss: 0.0151 - accuracy: 0.9957\n",
            "Epoch 16/20\n",
            "672/672 [==============================] - 6s 9ms/step - loss: 0.0145 - accuracy: 0.9955\n",
            "Epoch 17/20\n",
            "672/672 [==============================] - 6s 8ms/step - loss: 0.0097 - accuracy: 0.9969\n",
            "Epoch 18/20\n",
            "672/672 [==============================] - 6s 9ms/step - loss: 0.0105 - accuracy: 0.9965\n",
            "Epoch 19/20\n",
            "672/672 [==============================] - 6s 8ms/step - loss: 0.0084 - accuracy: 0.9972\n",
            "Epoch 20/20\n",
            "672/672 [==============================] - 6s 9ms/step - loss: 0.0101 - accuracy: 0.9969\n",
            "263/263 [==============================] - 2s 4ms/step - loss: 0.0354 - accuracy: 0.9919\n"
          ]
        }
      ],
      "source": [
        "\n",
        "#Compiling and model training with batch size = 50, epochs = 20, and optimizer = adam\n",
        "Optimizer = tf.keras.optimizers.Adam(\n",
        "            learning_rate=0.0005,\n",
        "            beta_1=0.9,\n",
        "            beta_2=0.999,\n",
        "            epsilon=1e-07,\n",
        "            name='Adam'\n",
        ")\n",
        "VGGmodel.compile(optimizer=Optimizer, loss='categorical_crossentropy', metrics=['accuracy'])\n",
        "start_time = time.time()\n",
        "VGGmodel.fit(x_train, y_train, batch_size = 50, epochs = 20, callbacks=[callbacks])\n",
        "\n",
        "end_time = time.time()\n",
        "VGGtraining_time = end_time - start_time\n",
        "\n",
        "# Evaluation\n",
        "start_time = time.time()\n",
        "# Evaluate the model on the training data\n",
        "train_loss, VGG_accuracy = VGGmodel.evaluate(x_test,y_test)\n",
        "end_time = time.time()\n",
        "VGGevaluation_time = end_time - start_time"
      ]
    },
    {
      "cell_type": "markdown",
      "source": [
        "Accuracy and time taken for the given Model"
      ],
      "metadata": {
        "id": "fxbFEdJ9in5J"
      }
    },
    {
      "cell_type": "code",
      "source": [
        "print(f'Training Time: {VGGtraining_time} seconds')\n",
        "print(f'Evaluation Time: {VGGevaluation_time} seconds')\n",
        "# Print the training accuracy\n",
        "print(f'Training Accuracy: {VGG_accuracy}')"
      ],
      "metadata": {
        "colab": {
          "base_uri": "https://localhost:8080/"
        },
        "id": "2ZL-z6C8WQWL",
        "outputId": "0a264ba9-c3a9-4f0c-9cf1-f8bc81b581b6"
      },
      "execution_count": null,
      "outputs": [
        {
          "output_type": "stream",
          "name": "stdout",
          "text": [
            "Training Time: 144.24035143852234 seconds\n",
            "Evaluation Time: 2.789938449859619 seconds\n",
            "Training Accuracy: 0.9919047355651855\n"
          ]
        }
      ]
    },
    {
      "cell_type": "code",
      "execution_count": null,
      "metadata": {
        "colab": {
          "base_uri": "https://localhost:8080/"
        },
        "id": "YIikW1op-yWi",
        "outputId": "65e0fa23-24b3-4678-a8d5-e68d7bbd212a"
      },
      "outputs": [
        {
          "output_type": "stream",
          "name": "stdout",
          "text": [
            "263/263 [==============================] - 1s 3ms/step\n"
          ]
        }
      ],
      "source": [
        "VGGresults = VGGmodel.predict(x_test)\n",
        "\n",
        "# select the index with the maximum probability\n",
        "VGGresults = np.argmax(VGGresults,axis = 1)\n",
        "\n",
        "VGGresults = pd.Series(VGGresults,name=\"Label\")"
      ]
    },
    {
      "cell_type": "code",
      "execution_count": null,
      "metadata": {
        "colab": {
          "base_uri": "https://localhost:8080/",
          "height": 556
        },
        "id": "9LD7lE6Y-yWi",
        "outputId": "2e7a9184-6d01-4447-9763-23af903eea38"
      },
      "outputs": [
        {
          "output_type": "stream",
          "name": "stdout",
          "text": [
            "True Positives (TP): 797\n",
            "True Negatives (TN): 7589\n",
            "False Positives (FP): 2\n",
            "False Negatives (FN): 1\n"
          ]
        },
        {
          "output_type": "display_data",
          "data": {
            "text/plain": [
              "<Figure size 640x480 with 1 Axes>"
            ],
            "image/png": "[encoded data removed]"
          },
          "metadata": {}
        }
      ],
      "source": [
        "# Assuming 'Lenetresults' contains raw class predictions (not one-hot encoded)\n",
        "y_pred = pd.Series(VGGresults, name=\"Label\")\n",
        "y_pred = tf.keras.utils.to_categorical(y_pred,10)\n",
        "# Convert 'y_true' and 'y_pred' to their original class label format\n",
        "y_true_class = np.argmax(y_test, axis=1)\n",
        "y_pred_class = np.argmax(y_pred, axis=1)\n",
        "\n",
        "# Compute the confusion matrix\n",
        "confusion_matrix = metrics.confusion_matrix(y_true_class, y_pred_class)\n",
        "\n",
        "# Calculate TP, TN, FP, FN as before\n",
        "TP = confusion_matrix[2, 2]\n",
        "TN = confusion_matrix[:2, :2].sum() + confusion_matrix[:2, 3:].sum() + confusion_matrix[3:, :2].sum() + confusion_matrix[3:, 3:].sum()\n",
        "FP = confusion_matrix[0, 2] + confusion_matrix[1, 2] + confusion_matrix[3, 2] + confusion_matrix[4, 2]\n",
        "FN = confusion_matrix[2, 0] + confusion_matrix[2, 1] + confusion_matrix[2, 3] + confusion_matrix[2, 4]\n",
        "\n",
        "# Rest of your code for creating the confusion matrix plot\n",
        "\n",
        "\n",
        "\n",
        "print(\"True Positives (TP):\", TP)\n",
        "print(\"True Negatives (TN):\", TN)\n",
        "print(\"False Positives (FP):\", FP)\n",
        "print(\"False Negatives (FN):\", FN)\n",
        "\n",
        "# create confusion matrix plot\n",
        "labels = [0, 1, 2, 3, 4, 5, 6, 7, 8, 9]  # all possible labels\n",
        "fig, ax = plt.subplots()\n",
        "im = ax.imshow(confusion_matrix, cmap='Blues')\n",
        "\n",
        "# set tick labels and locations\n",
        "ax.set_xticks(np.arange(len(labels)))\n",
        "ax.set_yticks(np.arange(len(labels)))\n",
        "ax.set_xticklabels(labels)\n",
        "ax.set_yticklabels(labels)\n",
        "\n",
        "# Rotate the tick labels and set their alignment.\n",
        "plt.setp(ax.get_xticklabels(), rotation=45, ha=\"right\",\n",
        "         rotation_mode=\"anchor\")\n",
        "\n",
        "# loop over data dimensions and create text annotations.\n",
        "for i in range(len(labels)):\n",
        "    for j in range(len(labels)):\n",
        "        text = ax.text(j, i, confusion_matrix[i, j],\n",
        "                       ha=\"center\", va=\"center\", color=\"black\")\n",
        "\n",
        "ax.set_title(\"Confusion Matrix\")\n",
        "ax.set_xlabel('Predicted label')\n",
        "ax.set_ylabel('True label')\n",
        "fig.tight_layout()\n",
        "plt.show()\n"
      ]
    },
    {
      "cell_type": "markdown",
      "metadata": {
        "id": "DT-QTkq5-yWi"
      },
      "source": [
        "4. **Inception-Net**"
      ]
    },
    {
      "cell_type": "code",
      "execution_count": null,
      "metadata": {
        "id": "C3fvIKEZ-yWi",
        "outputId": "1affc999-eb07-468b-add9-8d043595269a",
        "colab": {
          "base_uri": "https://localhost:8080/"
        }
      },
      "outputs": [
        {
          "output_type": "stream",
          "name": "stdout",
          "text": [
            "Model: \"sequential_3\"\n",
            "_________________________________________________________________\n",
            " Layer (type)                Output Shape              Param #   \n",
            "=================================================================\n",
            " conv2d_8 (Conv2D)           (None, 28, 28, 64)        128       \n",
            "                                                                 \n",
            " conv2d_9 (Conv2D)           (None, 28, 28, 64)        36928     \n",
            "                                                                 \n",
            " conv2d_10 (Conv2D)          (None, 28, 28, 64)        102464    \n",
            "                                                                 \n",
            " max_pooling2d_4 (MaxPoolin  (None, 28, 28, 64)        0         \n",
            " g2D)                                                            \n",
            "                                                                 \n",
            " batch_normalization_8 (Bat  (None, 28, 28, 64)        256       \n",
            " chNormalization)                                                \n",
            "                                                                 \n",
            " conv2d_11 (Conv2D)          (None, 28, 28, 128)       8320      \n",
            "                                                                 \n",
            " conv2d_12 (Conv2D)          (None, 28, 28, 128)       147584    \n",
            "                                                                 \n",
            " conv2d_13 (Conv2D)          (None, 28, 28, 128)       409728    \n",
            "                                                                 \n",
            " max_pooling2d_5 (MaxPoolin  (None, 28, 28, 128)       0         \n",
            " g2D)                                                            \n",
            "                                                                 \n",
            " batch_normalization_9 (Bat  (None, 28, 28, 128)       512       \n",
            " chNormalization)                                                \n",
            "                                                                 \n",
            " flatten_2 (Flatten)         (None, 100352)            0         \n",
            "                                                                 \n",
            " dense_7 (Dense)             (None, 256)               25690368  \n",
            "                                                                 \n",
            " batch_normalization_10 (Ba  (None, 256)               1024      \n",
            " tchNormalization)                                               \n",
            "                                                                 \n",
            " dropout_4 (Dropout)         (None, 256)               0         \n",
            "                                                                 \n",
            " dense_8 (Dense)             (None, 10)                2570      \n",
            "                                                                 \n",
            "=================================================================\n",
            "Total params: 26399882 (100.71 MB)\n",
            "Trainable params: 26398986 (100.70 MB)\n",
            "Non-trainable params: 896 (3.50 KB)\n",
            "_________________________________________________________________\n"
          ]
        }
      ],
      "source": [
        "\n",
        "# Define your InceptionNet-like model\n",
        "Inceptionmodel = tf.keras.models.Sequential([\n",
        "    # Block 1\n",
        "    tf.keras.layers.Conv2D(64, (1, 1), activation='relu', padding='same', input_shape=(28, 28, 1)),\n",
        "    tf.keras.layers.Conv2D(64, (3, 3), activation='relu', padding='same'),\n",
        "    tf.keras.layers.Conv2D(64, (5, 5), activation='relu', padding='same'),\n",
        "    tf.keras.layers.MaxPooling2D((3, 3), strides=(1, 1), padding='same'),\n",
        "    tf.keras.layers.BatchNormalization(),\n",
        "\n",
        "    # Block 2\n",
        "    tf.keras.layers.Conv2D(128, (1, 1), activation='relu', padding='same'),\n",
        "    tf.keras.layers.Conv2D(128, (3, 3), activation='relu', padding='same'),\n",
        "    tf.keras.layers.Conv2D(128, (5, 5), activation='relu', padding='same'),\n",
        "    tf.keras.layers.MaxPooling2D((3, 3), strides=(1, 1), padding='same'),\n",
        "    tf.keras.layers.BatchNormalization(),\n",
        "\n",
        "    # Block 3\n",
        "    tf.keras.layers.Flatten(),\n",
        "    tf.keras.layers.Dense(256, activation='relu'),\n",
        "    tf.keras.layers.BatchNormalization(),\n",
        "    tf.keras.layers.Dropout(0.5),\n",
        "\n",
        "    # Output Layer\n",
        "    tf.keras.layers.Dense(10, activation='softmax'),\n",
        "])\n",
        "\n",
        "# Compile the model\n",
        "Inceptionmodel.compile(optimizer='adam', loss='categorical_crossentropy', metrics=['accuracy'])\n",
        "\n",
        "# Print the model summary\n",
        "Inceptionmodel.summary()\n"
      ]
    },
    {
      "cell_type": "code",
      "execution_count": null,
      "metadata": {
        "id": "zkSrAS26-yWi",
        "colab": {
          "base_uri": "https://localhost:8080/"
        },
        "outputId": "63bff66d-d084-4a5b-9033-2aa8c942b8d5"
      },
      "outputs": [
        {
          "output_type": "stream",
          "name": "stdout",
          "text": [
            "Epoch 1/20\n",
            "  5/672 [..............................] - ETA: 19s - loss: 1.5778 - accuracy: 0.5560"
          ]
        },
        {
          "output_type": "stream",
          "name": "stderr",
          "text": [
            "WARNING:tensorflow:Callback method `on_train_batch_end` is slow compared to the batch time (batch time: 0.0059s vs `on_train_batch_end` time: 0.0194s). Check your callbacks.\n"
          ]
        },
        {
          "output_type": "stream",
          "name": "stdout",
          "text": [
            "672/672 [==============================] - 25s 31ms/step - loss: 0.1249 - accuracy: 0.9628\n",
            "Epoch 2/20\n",
            "672/672 [==============================] - 21s 31ms/step - loss: 0.0583 - accuracy: 0.9831\n",
            "Epoch 3/20\n",
            "672/672 [==============================] - 21s 31ms/step - loss: 0.0376 - accuracy: 0.9888\n",
            "Epoch 4/20\n",
            "672/672 [==============================] - 21s 31ms/step - loss: 0.0307 - accuracy: 0.9900\n",
            "Epoch 5/20\n",
            "672/672 [==============================] - 21s 31ms/step - loss: 0.0282 - accuracy: 0.9911\n",
            "Epoch 6/20\n",
            "672/672 [==============================] - 21s 31ms/step - loss: 0.0244 - accuracy: 0.9924\n",
            "Epoch 7/20\n",
            "672/672 [==============================] - 21s 31ms/step - loss: 0.0235 - accuracy: 0.9927\n",
            "Epoch 8/20\n",
            "672/672 [==============================] - 21s 31ms/step - loss: 0.0172 - accuracy: 0.9946\n",
            "Epoch 9/20\n",
            "672/672 [==============================] - 21s 31ms/step - loss: 0.0230 - accuracy: 0.9922\n",
            "Epoch 10/20\n",
            "672/672 [==============================] - 21s 31ms/step - loss: 0.0169 - accuracy: 0.9947\n",
            "Epoch 11/20\n",
            "672/672 [==============================] - 21s 31ms/step - loss: 0.0136 - accuracy: 0.9954\n",
            "Epoch 12/20\n",
            "672/672 [==============================] - 21s 31ms/step - loss: 0.0122 - accuracy: 0.9962\n",
            "Epoch 13/20\n",
            "672/672 [==============================] - 21s 31ms/step - loss: 0.0131 - accuracy: 0.9958\n",
            "Epoch 14/20\n",
            "672/672 [==============================] - 21s 31ms/step - loss: 0.0097 - accuracy: 0.9966\n",
            "Epoch 15/20\n",
            "672/672 [==============================] - 21s 31ms/step - loss: 0.0101 - accuracy: 0.9967\n",
            "Epoch 16/20\n",
            "672/672 [==============================] - 21s 31ms/step - loss: 0.0087 - accuracy: 0.9971\n",
            "Epoch 17/20\n",
            "672/672 [==============================] - 21s 31ms/step - loss: 0.0094 - accuracy: 0.9966\n",
            "Epoch 18/20\n",
            "672/672 [==============================] - 21s 31ms/step - loss: 0.0092 - accuracy: 0.9973\n",
            "Epoch 19/20\n",
            "672/672 [==============================] - 21s 31ms/step - loss: 0.0087 - accuracy: 0.9972\n",
            "Epoch 20/20\n",
            "672/672 [==============================] - 21s 31ms/step - loss: 0.0060 - accuracy: 0.9980\n",
            "263/263 [==============================] - 3s 8ms/step - loss: 0.0339 - accuracy: 0.9939\n"
          ]
        }
      ],
      "source": [
        "\n",
        "#Compiling and model training with batch size = 50, epochs = 20, and optimizer = adam\n",
        "Optimizer = tf.keras.optimizers.Adam(\n",
        "            learning_rate=0.0005,\n",
        "            beta_1=0.9,\n",
        "            beta_2=0.999,\n",
        "            epsilon=1e-07,\n",
        "            name='Adam'\n",
        ")\n",
        "Inceptionmodel.compile(optimizer=Optimizer, loss='categorical_crossentropy', metrics=['accuracy'])\n",
        "\n",
        "start_time = time.time()\n",
        "Inceptionmodel.fit(x_train, y_train, batch_size = 50, epochs = 20, callbacks=[callbacks])\n",
        "end_time = time.time()\n",
        "Inceptiontraining_time = end_time - start_time\n",
        "\n",
        "# Evaluation\n",
        "start_time = time.time()\n",
        "# Evaluate the model on the training data\n",
        "train_loss, Inception_accuracy = Inceptionmodel.evaluate(x_test,y_test)\n",
        "end_time = time.time()\n",
        "Inceptionevaluation_time = end_time - start_time\n"
      ]
    },
    {
      "cell_type": "markdown",
      "source": [
        "Accuracy and time taken for the given Model"
      ],
      "metadata": {
        "id": "LBb701lriqnF"
      }
    },
    {
      "cell_type": "code",
      "source": [
        "print(f'Training Time: {Inceptiontraining_time} seconds')\n",
        "print(f'Evaluation Time: {Inceptionevaluation_time} seconds')\n",
        "# Print the training accuracy\n",
        "print(f'Training Accuracy: {Inception_accuracy}')"
      ],
      "metadata": {
        "colab": {
          "base_uri": "https://localhost:8080/"
        },
        "id": "TIjsfhmbWZng",
        "outputId": "b4026f23-4240-4fcf-ac49-a715466ae1bb"
      },
      "execution_count": null,
      "outputs": [
        {
          "output_type": "stream",
          "name": "stdout",
          "text": [
            "Training Time: 419.8472948074341 seconds\n",
            "Evaluation Time: 2.6762843132019043 seconds\n",
            "Training Accuracy: 0.9939285516738892\n"
          ]
        }
      ]
    },
    {
      "cell_type": "code",
      "execution_count": null,
      "metadata": {
        "id": "sA8RltK2-yWi",
        "colab": {
          "base_uri": "https://localhost:8080/"
        },
        "outputId": "1a603461-65f2-4461-824a-86aaff17a34b"
      },
      "outputs": [
        {
          "output_type": "stream",
          "name": "stdout",
          "text": [
            "263/263 [==============================] - 2s 6ms/step\n"
          ]
        }
      ],
      "source": [
        "Inceptionresults = Inceptionmodel.predict(x_test)\n",
        "\n",
        "# select the index with the maximum probability\n",
        "Inceptionresults = np.argmax(Inceptionresults,axis = 1)\n",
        "\n",
        "Inceptionresults = pd.Series(Inceptionresults,name=\"Label\")"
      ]
    },
    {
      "cell_type": "code",
      "execution_count": null,
      "metadata": {
        "id": "WwKDdjv3-yWi",
        "colab": {
          "base_uri": "https://localhost:8080/",
          "height": 556
        },
        "outputId": "088127c0-534f-44f2-ddf4-8c28f11903d6"
      },
      "outputs": [
        {
          "output_type": "stream",
          "name": "stdout",
          "text": [
            "True Positives (TP): 795\n",
            "True Negatives (TN): 7594\n",
            "False Positives (FP): 2\n",
            "False Negatives (FN): 3\n"
          ]
        },
        {
          "output_type": "display_data",
          "data": {
            "text/plain": [
              "<Figure size 640x480 with 1 Axes>"
            ],
            "image/png": "[encoded data removed]"
          },
          "metadata": {}
        }
      ],
      "source": [
        "# Assuming 'Lenetresults' contains raw class predictions (not one-hot encoded)\n",
        "y_pred = pd.Series(Inceptionresults, name=\"Label\")\n",
        "y_pred = tf.keras.utils.to_categorical(y_pred,10)\n",
        "# Convert 'y_true' and 'y_pred' to their original class label format\n",
        "y_true_class = np.argmax(y_test, axis=1)\n",
        "y_pred_class = np.argmax(y_pred, axis=1)\n",
        "\n",
        "# Compute the confusion matrix\n",
        "confusion_matrix = metrics.confusion_matrix(y_true_class, y_pred_class)\n",
        "\n",
        "# Calculate TP, TN, FP, FN as before\n",
        "TP = confusion_matrix[2, 2]\n",
        "TN = confusion_matrix[:2, :2].sum() + confusion_matrix[:2, 3:].sum() + confusion_matrix[3:, :2].sum() + confusion_matrix[3:, 3:].sum()\n",
        "FP = confusion_matrix[0, 2] + confusion_matrix[1, 2] + confusion_matrix[3, 2] + confusion_matrix[4, 2]\n",
        "FN = confusion_matrix[2, 0] + confusion_matrix[2, 1] + confusion_matrix[2, 3] + confusion_matrix[2, 4]\n",
        "\n",
        "# Rest of your code for creating the confusion matrix plot\n",
        "\n",
        "\n",
        "\n",
        "print(\"True Positives (TP):\", TP)\n",
        "print(\"True Negatives (TN):\", TN)\n",
        "print(\"False Positives (FP):\", FP)\n",
        "print(\"False Negatives (FN):\", FN)\n",
        "\n",
        "# create confusion matrix plot\n",
        "labels = [0, 1, 2, 3, 4, 5, 6, 7, 8, 9]  # all possible labels\n",
        "fig, ax = plt.subplots()\n",
        "im = ax.imshow(confusion_matrix, cmap='Blues')\n",
        "\n",
        "# set tick labels and locations\n",
        "ax.set_xticks(np.arange(len(labels)))\n",
        "ax.set_yticks(np.arange(len(labels)))\n",
        "ax.set_xticklabels(labels)\n",
        "ax.set_yticklabels(labels)\n",
        "\n",
        "# Rotate the tick labels and set their alignment.\n",
        "plt.setp(ax.get_xticklabels(), rotation=45, ha=\"right\",\n",
        "         rotation_mode=\"anchor\")\n",
        "\n",
        "# loop over data dimensions and create text annotations.\n",
        "for i in range(len(labels)):\n",
        "    for j in range(len(labels)):\n",
        "        text = ax.text(j, i, confusion_matrix[i, j],\n",
        "                       ha=\"center\", va=\"center\", color=\"black\")\n",
        "\n",
        "ax.set_title(\"Confusion Matrix\")\n",
        "ax.set_xlabel('Predicted label')\n",
        "ax.set_ylabel('True label')\n",
        "fig.tight_layout()\n",
        "plt.show()\n"
      ]
    },
    {
      "cell_type": "markdown",
      "metadata": {
        "id": "LvqAZX2E-yWj"
      },
      "source": [
        "5. **ResNet**"
      ]
    },
    {
      "cell_type": "code",
      "execution_count": null,
      "metadata": {
        "colab": {
          "base_uri": "https://localhost:8080/"
        },
        "id": "LGNVv2z3-yWp",
        "outputId": "9290e114-eb5e-4c81-d214-79e0999b06a7"
      },
      "outputs": [
        {
          "output_type": "stream",
          "name": "stdout",
          "text": [
            "Model: \"model\"\n",
            "__________________________________________________________________________________________________\n",
            " Layer (type)                Output Shape                 Param #   Connected to                  \n",
            "==================================================================================================\n",
            " input_1 (InputLayer)        [(None, 28, 28, 1)]          0         []                            \n",
            "                                                                                                  \n",
            " conv2d_14 (Conv2D)          (None, 14, 14, 64)           3200      ['input_1[0][0]']             \n",
            "                                                                                                  \n",
            " max_pooling2d_6 (MaxPoolin  (None, 7, 7, 64)             0         ['conv2d_14[0][0]']           \n",
            " g2D)                                                                                             \n",
            "                                                                                                  \n",
            " conv2d_15 (Conv2D)          (None, 7, 7, 64)             36928     ['max_pooling2d_6[0][0]']     \n",
            "                                                                                                  \n",
            " conv2d_16 (Conv2D)          (None, 7, 7, 64)             36928     ['conv2d_15[0][0]']           \n",
            "                                                                                                  \n",
            " add (Add)                   (None, 7, 7, 64)             0         ['conv2d_16[0][0]',           \n",
            "                                                                     'max_pooling2d_6[0][0]']     \n",
            "                                                                                                  \n",
            " activation (Activation)     (None, 7, 7, 64)             0         ['add[0][0]']                 \n",
            "                                                                                                  \n",
            " conv2d_17 (Conv2D)          (None, 7, 7, 64)             36928     ['activation[0][0]']          \n",
            "                                                                                                  \n",
            " conv2d_18 (Conv2D)          (None, 7, 7, 64)             36928     ['conv2d_17[0][0]']           \n",
            "                                                                                                  \n",
            " add_1 (Add)                 (None, 7, 7, 64)             0         ['conv2d_18[0][0]',           \n",
            "                                                                     'activation[0][0]']          \n",
            "                                                                                                  \n",
            " activation_1 (Activation)   (None, 7, 7, 64)             0         ['add_1[0][0]']               \n",
            "                                                                                                  \n",
            " conv2d_19 (Conv2D)          (None, 7, 7, 64)             36928     ['activation_1[0][0]']        \n",
            "                                                                                                  \n",
            " conv2d_20 (Conv2D)          (None, 7, 7, 64)             36928     ['conv2d_19[0][0]']           \n",
            "                                                                                                  \n",
            " add_2 (Add)                 (None, 7, 7, 64)             0         ['conv2d_20[0][0]',           \n",
            "                                                                     'activation_1[0][0]']        \n",
            "                                                                                                  \n",
            " activation_2 (Activation)   (None, 7, 7, 64)             0         ['add_2[0][0]']               \n",
            "                                                                                                  \n",
            " global_average_pooling2d (  (None, 64)                   0         ['activation_2[0][0]']        \n",
            " GlobalAveragePooling2D)                                                                          \n",
            "                                                                                                  \n",
            " dense_9 (Dense)             (None, 10)                   650       ['global_average_pooling2d[0][\n",
            "                                                                    0]']                          \n",
            "                                                                                                  \n",
            "==================================================================================================\n",
            "Total params: 225418 (880.54 KB)\n",
            "Trainable params: 225418 (880.54 KB)\n",
            "Non-trainable params: 0 (0.00 Byte)\n",
            "__________________________________________________________________________________________________\n"
          ]
        }
      ],
      "source": [
        "# Define a function for the residual block\n",
        "def residual_block(x, filters):\n",
        "    shortcut = x\n",
        "\n",
        "    # Main Path\n",
        "    x = tf.keras.layers.Conv2D(filters, (3, 3), padding='same', activation='relu')(x)\n",
        "    x = tf.keras.layers.Conv2D(filters, (3, 3), padding='same', activation='relu')(x)\n",
        "\n",
        "    # Add shortcut to the main path\n",
        "    x = tf.keras.layers.Add()([x, shortcut])\n",
        "    x = tf.keras.layers.Activation('relu')(x)\n",
        "\n",
        "    return x\n",
        "\n",
        "# Define your ResNet-like model\n",
        "input_layer = tf.keras.layers.Input(shape=(28, 28, 1))\n",
        "x = tf.keras.layers.Conv2D(64, (7, 7), strides=(2, 2), padding='same', activation='relu')(input_layer)\n",
        "x = tf.keras.layers.MaxPooling2D((3, 3), strides=(2, 2), padding='same')(x)\n",
        "\n",
        "# Residual Blocks (Stack of 3 blocks)\n",
        "for _ in range(3):\n",
        "    x = residual_block(x, 64)\n",
        "\n",
        "# Global Average Pooling\n",
        "x = tf.keras.layers.GlobalAveragePooling2D()(x)\n",
        "\n",
        "# Output Layer\n",
        "output_layer = tf.keras.layers.Dense(10, activation='softmax')(x)  # 10 is the number of output classes (digits)\n",
        "\n",
        "# Create the model\n",
        "ResNetmodel = tf.keras.models.Model(inputs=input_layer, outputs=output_layer)\n",
        "\n",
        "# Compile the model\n",
        "ResNetmodel.compile(optimizer='adam', loss='categorical_crossentropy', metrics=['accuracy'])\n",
        "\n",
        "# Print the model summary\n",
        "ResNetmodel.summary()\n"
      ]
    },
    {
      "cell_type": "code",
      "execution_count": null,
      "metadata": {
        "colab": {
          "base_uri": "https://localhost:8080/"
        },
        "id": "XAgl3bFw-yWq",
        "outputId": "d614e9de-f367-48d8-bfc1-0d8d69c88dd5"
      },
      "outputs": [
        {
          "output_type": "stream",
          "name": "stdout",
          "text": [
            "Epoch 1/20\n",
            "672/672 [==============================] - 7s 7ms/step - loss: 0.5496 - accuracy: 0.8122\n",
            "Epoch 2/20\n",
            "672/672 [==============================] - 4s 5ms/step - loss: 0.1364 - accuracy: 0.9587\n",
            "Epoch 3/20\n",
            "672/672 [==============================] - 4s 5ms/step - loss: 0.0897 - accuracy: 0.9728\n",
            "Epoch 4/20\n",
            "672/672 [==============================] - 4s 6ms/step - loss: 0.0721 - accuracy: 0.9785\n",
            "Epoch 5/20\n",
            "672/672 [==============================] - 4s 6ms/step - loss: 0.0654 - accuracy: 0.9799\n",
            "Epoch 6/20\n",
            "672/672 [==============================] - 4s 5ms/step - loss: 0.0596 - accuracy: 0.9816\n",
            "Epoch 7/20\n",
            "672/672 [==============================] - 4s 5ms/step - loss: 0.0460 - accuracy: 0.9856\n",
            "Epoch 8/20\n",
            "672/672 [==============================] - 5s 7ms/step - loss: 0.0401 - accuracy: 0.9875\n",
            "Epoch 9/20\n",
            "672/672 [==============================] - 3s 5ms/step - loss: 0.0365 - accuracy: 0.9892\n",
            "Epoch 10/20\n",
            "672/672 [==============================] - 3s 5ms/step - loss: 0.0318 - accuracy: 0.9899\n",
            "Epoch 11/20\n",
            "672/672 [==============================] - 4s 6ms/step - loss: 0.0299 - accuracy: 0.9908\n",
            "Epoch 12/20\n",
            "672/672 [==============================] - 4s 6ms/step - loss: 0.0251 - accuracy: 0.9916\n",
            "Epoch 13/20\n",
            "672/672 [==============================] - 3s 5ms/step - loss: 0.0223 - accuracy: 0.9927\n",
            "Epoch 14/20\n",
            "672/672 [==============================] - 3s 5ms/step - loss: 0.0244 - accuracy: 0.9920\n",
            "Epoch 15/20\n",
            "672/672 [==============================] - 4s 6ms/step - loss: 0.0201 - accuracy: 0.9938\n",
            "Epoch 16/20\n",
            "672/672 [==============================] - 4s 5ms/step - loss: 0.0165 - accuracy: 0.9948\n",
            "Epoch 17/20\n",
            "672/672 [==============================] - 4s 5ms/step - loss: 0.0150 - accuracy: 0.9954\n",
            "Epoch 18/20\n",
            "672/672 [==============================] - 4s 5ms/step - loss: 0.0163 - accuracy: 0.9944\n",
            "Epoch 19/20\n",
            "672/672 [==============================] - 4s 6ms/step - loss: 0.0122 - accuracy: 0.9964\n",
            "Epoch 20/20\n",
            "672/672 [==============================] - 3s 5ms/step - loss: 0.0106 - accuracy: 0.9964\n",
            "263/263 [==============================] - 1s 3ms/step - loss: 0.0486 - accuracy: 0.9867\n"
          ]
        }
      ],
      "source": [
        "\n",
        "#Compiling and model training with batch size = 50, epochs = 20, and optimizer = adam\n",
        "Optimizer = tf.keras.optimizers.Adam(\n",
        "            learning_rate=0.0005,\n",
        "            beta_1=0.9,\n",
        "            beta_2=0.999,\n",
        "            epsilon=1e-07,\n",
        "            name='Adam'\n",
        ")\n",
        "ResNetmodel.compile(optimizer=Optimizer, loss='categorical_crossentropy', metrics=['accuracy'])\n",
        "\n",
        "start_time = time.time()\n",
        "ResNetmodel.fit(x_train, y_train, batch_size = 50, epochs = 20, callbacks=[callbacks])\n",
        "end_time = time.time()\n",
        "ResNettraining_time = end_time - start_time\n",
        "\n",
        "# Evaluation\n",
        "start_time = time.time()\n",
        "# Evaluate the model on the training data\n",
        "train_loss, Resnet_accuracy = ResNetmodel.evaluate(x_test,y_test)\n",
        "end_time = time.time()\n",
        "ResNetevaluation_time = end_time - start_time\n",
        "\n"
      ]
    },
    {
      "cell_type": "markdown",
      "source": [
        "Accuracy and time taken for the given Model"
      ],
      "metadata": {
        "id": "ak8YI3Ltit7L"
      }
    },
    {
      "cell_type": "code",
      "source": [
        "print(f'Training Time: {ResNettraining_time} seconds')\n",
        "print(f'Evaluation Time: {ResNetevaluation_time} seconds')\n",
        "# Print the training accuracy\n",
        "print(f'Training Accuracy: {Resnet_accuracy}')"
      ],
      "metadata": {
        "colab": {
          "base_uri": "https://localhost:8080/"
        },
        "id": "t5u7tBZfWwQD",
        "outputId": "58a02af3-a82a-4161-9782-4a98e58ecb33"
      },
      "execution_count": null,
      "outputs": [
        {
          "output_type": "stream",
          "name": "stdout",
          "text": [
            "Training Time: 79.10803699493408 seconds\n",
            "Evaluation Time: 1.4838588237762451 seconds\n",
            "Training Accuracy: 0.9866666793823242\n"
          ]
        }
      ]
    },
    {
      "cell_type": "code",
      "execution_count": null,
      "metadata": {
        "colab": {
          "base_uri": "https://localhost:8080/"
        },
        "id": "lIPWxskO-yWq",
        "outputId": "41b89b80-126b-41ac-bcf4-358cf6a290bc"
      },
      "outputs": [
        {
          "output_type": "stream",
          "name": "stdout",
          "text": [
            "263/263 [==============================] - 2s 5ms/step\n"
          ]
        }
      ],
      "source": [
        "Resnetresults = ResNetmodel.predict(x_test)\n",
        "\n",
        "# select the index with the maximum probability\n",
        "Resnetresults = np.argmax(Resnetresults,axis = 1)\n",
        "\n",
        "Resnetresults = pd.Series(Resnetresults,name=\"Label\")"
      ]
    },
    {
      "cell_type": "code",
      "execution_count": null,
      "metadata": {
        "colab": {
          "base_uri": "https://localhost:8080/",
          "height": 556
        },
        "id": "jpS_pP96-yWq",
        "outputId": "98d6ff0b-2d3d-4604-eb06-45a48c4d5782"
      },
      "outputs": [
        {
          "output_type": "stream",
          "name": "stdout",
          "text": [
            "True Positives (TP): 789\n",
            "True Negatives (TN): 7585\n",
            "False Positives (FP): 3\n",
            "False Negatives (FN): 6\n"
          ]
        },
        {
          "output_type": "display_data",
          "data": {
            "text/plain": [
              "<Figure size 640x480 with 1 Axes>"
            ],
            "image/png": "[encoded data removed]"
          },
          "metadata": {}
        }
      ],
      "source": [
        "# Assuming 'Lenetresults' contains raw class predictions (not one-hot encoded)\n",
        "y_pred = pd.Series(Resnetresults, name=\"Label\")\n",
        "y_pred = tf.keras.utils.to_categorical(y_pred,10)\n",
        "# Convert 'y_true' and 'y_pred' to their original class label format\n",
        "y_true_class = np.argmax(y_test, axis=1)\n",
        "y_pred_class = np.argmax(y_pred, axis=1)\n",
        "\n",
        "# Compute the confusion matrix\n",
        "confusion_matrix = metrics.confusion_matrix(y_true_class, y_pred_class)\n",
        "\n",
        "# Calculate TP, TN, FP, FN as before\n",
        "TP = confusion_matrix[2, 2]\n",
        "TN = confusion_matrix[:2, :2].sum() + confusion_matrix[:2, 3:].sum() + confusion_matrix[3:, :2].sum() + confusion_matrix[3:, 3:].sum()\n",
        "FP = confusion_matrix[0, 2] + confusion_matrix[1, 2] + confusion_matrix[3, 2] + confusion_matrix[4, 2]\n",
        "FN = confusion_matrix[2, 0] + confusion_matrix[2, 1] + confusion_matrix[2, 3] + confusion_matrix[2, 4]\n",
        "\n",
        "# Rest of your code for creating the confusion matrix plot\n",
        "\n",
        "\n",
        "\n",
        "print(\"True Positives (TP):\", TP)\n",
        "print(\"True Negatives (TN):\", TN)\n",
        "print(\"False Positives (FP):\", FP)\n",
        "print(\"False Negatives (FN):\", FN)\n",
        "\n",
        "# create confusion matrix plot\n",
        "labels = [0, 1, 2, 3, 4, 5, 6, 7, 8, 9]  # all possible labels\n",
        "fig, ax = plt.subplots()\n",
        "im = ax.imshow(confusion_matrix, cmap='Blues')\n",
        "\n",
        "# set tick labels and locations\n",
        "ax.set_xticks(np.arange(len(labels)))\n",
        "ax.set_yticks(np.arange(len(labels)))\n",
        "ax.set_xticklabels(labels)\n",
        "ax.set_yticklabels(labels)\n",
        "\n",
        "# Rotate the tick labels and set their alignment.\n",
        "plt.setp(ax.get_xticklabels(), rotation=45, ha=\"right\",\n",
        "         rotation_mode=\"anchor\")\n",
        "\n",
        "# loop over data dimensions and create text annotations.\n",
        "for i in range(len(labels)):\n",
        "    for j in range(len(labels)):\n",
        "        text = ax.text(j, i, confusion_matrix[i, j],\n",
        "                       ha=\"center\", va=\"center\", color=\"black\")\n",
        "\n",
        "ax.set_title(\"Confusion Matrix\")\n",
        "ax.set_xlabel('Predicted label')\n",
        "ax.set_ylabel('True label')\n",
        "fig.tight_layout()\n",
        "plt.show()\n"
      ]
    },
    {
      "cell_type": "markdown",
      "metadata": {
        "id": "SotTwUXn-yWq"
      },
      "source": [
        "6. LeNet-5"
      ]
    },
    {
      "cell_type": "code",
      "execution_count": null,
      "metadata": {
        "id": "ZAq0HCwb-yWq",
        "colab": {
          "base_uri": "https://localhost:8080/"
        },
        "outputId": "f4b03a23-5236-44ea-dbe5-55ed99fb5d10"
      },
      "outputs": [
        {
          "output_type": "stream",
          "name": "stdout",
          "text": [
            "Model: \"sequential_4\"\n",
            "_________________________________________________________________\n",
            " Layer (type)                Output Shape              Param #   \n",
            "=================================================================\n",
            " conv2d_21 (Conv2D)          (None, 24, 24, 6)         156       \n",
            "                                                                 \n",
            " max_pooling2d_7 (MaxPoolin  (None, 12, 12, 6)         0         \n",
            " g2D)                                                            \n",
            "                                                                 \n",
            " conv2d_22 (Conv2D)          (None, 8, 8, 16)          2416      \n",
            "                                                                 \n",
            " max_pooling2d_8 (MaxPoolin  (None, 4, 4, 16)          0         \n",
            " g2D)                                                            \n",
            "                                                                 \n",
            " flatten_3 (Flatten)         (None, 256)               0         \n",
            "                                                                 \n",
            " dense_10 (Dense)            (None, 120)               30840     \n",
            "                                                                 \n",
            " dense_11 (Dense)            (None, 84)                10164     \n",
            "                                                                 \n",
            " dense_12 (Dense)            (None, 10)                850       \n",
            "                                                                 \n",
            "=================================================================\n",
            "Total params: 44426 (173.54 KB)\n",
            "Trainable params: 44426 (173.54 KB)\n",
            "Non-trainable params: 0 (0.00 Byte)\n",
            "_________________________________________________________________\n"
          ]
        }
      ],
      "source": [
        "\n",
        "Lenetmodel = tf.keras.models.Sequential([\n",
        "    # Convolutional Layer 1\n",
        "    tf.keras.layers.Conv2D(6, kernel_size=(5, 5), activation='relu', input_shape=(28, 28, 1)),\n",
        "    tf.keras.layers.MaxPooling2D(pool_size=(2, 2)),\n",
        "\n",
        "    # Convolutional Layer 2\n",
        "    tf.keras.layers.Conv2D(16, kernel_size=(5, 5), activation='relu'),\n",
        "    tf.keras.layers.MaxPooling2D(pool_size=(2, 2)),\n",
        "\n",
        "    # Flatten the output\n",
        "    tf.keras.layers.Flatten(),\n",
        "\n",
        "    # Fully Connected Layer 1\n",
        "    tf.keras.layers.Dense(120, activation='relu'),\n",
        "\n",
        "    # Fully Connected Layer 2\n",
        "    tf.keras.layers.Dense(84, activation='relu'),\n",
        "\n",
        "    # Output Layer\n",
        "    tf.keras.layers.Dense(10, activation='softmax'),\n",
        "\n",
        "])\n",
        "\n",
        "Lenetmodel.compile(optimizer='adam', loss='categorical_crossentropy', metrics=['accuracy'])\n",
        "\n",
        "Lenetmodel.summary()\n"
      ]
    },
    {
      "cell_type": "code",
      "execution_count": null,
      "metadata": {
        "colab": {
          "base_uri": "https://localhost:8080/"
        },
        "id": "7GKapi5p-yWq",
        "outputId": "01867b34-2980-463e-86d9-b61e48831da6"
      },
      "outputs": [
        {
          "output_type": "stream",
          "name": "stdout",
          "text": [
            "Epoch 1/20\n",
            "672/672 [==============================] - 8s 7ms/step - loss: 0.4109 - accuracy: 0.8788\n",
            "Epoch 2/20\n",
            "672/672 [==============================] - 2s 4ms/step - loss: 0.1186 - accuracy: 0.9642\n",
            "Epoch 3/20\n",
            "672/672 [==============================] - 2s 4ms/step - loss: 0.0842 - accuracy: 0.9749\n",
            "Epoch 4/20\n",
            "672/672 [==============================] - 3s 4ms/step - loss: 0.0666 - accuracy: 0.9796\n",
            "Epoch 5/20\n",
            "672/672 [==============================] - 3s 4ms/step - loss: 0.0585 - accuracy: 0.9823\n",
            "Epoch 6/20\n",
            "672/672 [==============================] - 3s 5ms/step - loss: 0.0485 - accuracy: 0.9853\n",
            "Epoch 7/20\n",
            "672/672 [==============================] - 3s 5ms/step - loss: 0.0408 - accuracy: 0.9870\n",
            "Epoch 8/20\n",
            "672/672 [==============================] - 4s 7ms/step - loss: 0.0354 - accuracy: 0.9887\n",
            "Epoch 9/20\n",
            "672/672 [==============================] - 3s 5ms/step - loss: 0.0292 - accuracy: 0.9908\n",
            "Epoch 10/20\n",
            "672/672 [==============================] - 3s 5ms/step - loss: 0.0264 - accuracy: 0.9916\n",
            "Epoch 11/20\n",
            "672/672 [==============================] - 2s 4ms/step - loss: 0.0244 - accuracy: 0.9922\n",
            "Epoch 12/20\n",
            "672/672 [==============================] - 2s 4ms/step - loss: 0.0201 - accuracy: 0.9937\n",
            "Epoch 13/20\n",
            "672/672 [==============================] - 3s 4ms/step - loss: 0.0168 - accuracy: 0.9946\n",
            "Epoch 14/20\n",
            "672/672 [==============================] - 3s 4ms/step - loss: 0.0171 - accuracy: 0.9944\n",
            "Epoch 15/20\n",
            "672/672 [==============================] - 3s 5ms/step - loss: 0.0148 - accuracy: 0.9948\n",
            "Epoch 16/20\n",
            "672/672 [==============================] - 3s 4ms/step - loss: 0.0130 - accuracy: 0.9958\n",
            "Epoch 17/20\n",
            "672/672 [==============================] - 3s 4ms/step - loss: 0.0121 - accuracy: 0.9965\n",
            "Epoch 18/20\n",
            "672/672 [==============================] - 3s 5ms/step - loss: 0.0104 - accuracy: 0.9971\n",
            "Epoch 19/20\n",
            "672/672 [==============================] - 3s 5ms/step - loss: 0.0087 - accuracy: 0.9973\n",
            "Epoch 20/20\n",
            "672/672 [==============================] - 3s 4ms/step - loss: 0.0104 - accuracy: 0.9963\n",
            "263/263 [==============================] - 1s 3ms/step - loss: 0.0663 - accuracy: 0.9849\n"
          ]
        }
      ],
      "source": [
        "\n",
        "#Compiling and model training with batch size = 50, epochs = 20, and optimizer = adam\n",
        "Optimizer = tf.keras.optimizers.Adam(\n",
        "            learning_rate=0.0005,\n",
        "            beta_1=0.9,\n",
        "            beta_2=0.999,\n",
        "            epsilon=1e-07,\n",
        "            name='Adam'\n",
        ")\n",
        "Lenetmodel.compile(optimizer=Optimizer, loss='categorical_crossentropy', metrics=['accuracy'])\n",
        "\n",
        "start_time = time.time()\n",
        "Lenetmodel.fit(x_train, y_train, batch_size = 50, epochs = 20, callbacks=[callbacks])\n",
        "end_time = time.time()\n",
        "Lenettraining_time = end_time - start_time\n",
        "\n",
        "# Evaluation\n",
        "start_time = time.time()\n",
        "# Evaluate the model on the training data\n",
        "train_loss, Lenet_accuracy = Lenetmodel.evaluate(x_test,y_test)\n",
        "end_time = time.time()\n",
        "Lenetevaluation_time = end_time - start_time"
      ]
    },
    {
      "cell_type": "markdown",
      "source": [
        "Accuracy and time taken for the given Model"
      ],
      "metadata": {
        "id": "GYfd5VCPixAA"
      }
    },
    {
      "cell_type": "code",
      "source": [
        "print(f'Training Time: {Lenettraining_time} seconds')\n",
        "print(f'Evaluation Time: {Lenetevaluation_time} seconds')\n",
        "# Print the training accuracy\n",
        "print(f'Training Accuracy: {Lenet_accuracy}')"
      ],
      "metadata": {
        "colab": {
          "base_uri": "https://localhost:8080/"
        },
        "id": "vbSwmrPDXQZs",
        "outputId": "1a8d74b2-b25f-4f33-bf46-36961add6a1f"
      },
      "execution_count": null,
      "outputs": [
        {
          "output_type": "stream",
          "name": "stdout",
          "text": [
            "Training Time: 83.88506364822388 seconds\n",
            "Evaluation Time: 0.99269700050354 seconds\n",
            "Training Accuracy: 0.9848809242248535\n"
          ]
        }
      ]
    },
    {
      "cell_type": "code",
      "execution_count": null,
      "metadata": {
        "execution": {
          "iopub.execute_input": "2023-05-13T06:15:07.353632Z",
          "iopub.status.busy": "2023-05-13T06:15:07.353086Z",
          "iopub.status.idle": "2023-05-13T06:15:36.603861Z",
          "shell.execute_reply": "2023-05-13T06:15:36.602536Z",
          "shell.execute_reply.started": "2023-05-13T06:15:07.353584Z"
        },
        "trusted": true,
        "colab": {
          "base_uri": "https://localhost:8080/"
        },
        "id": "X33Uc4IW-yWq",
        "outputId": "bd13f1e8-ea80-4a06-f695-5c3fc9281070"
      },
      "outputs": [
        {
          "output_type": "stream",
          "name": "stdout",
          "text": [
            "263/263 [==============================] - 1s 3ms/step\n"
          ]
        }
      ],
      "source": [
        "Lenetresults = Lenetmodel.predict(x_test)\n",
        "\n",
        "# select the index with the maximum probability\n",
        "Lenetresults = np.argmax(Lenetresults,axis = 1)\n",
        "\n",
        "Lenetresults = pd.Series(Lenetresults,name=\"Label\")"
      ]
    },
    {
      "cell_type": "code",
      "execution_count": null,
      "metadata": {
        "execution": {
          "iopub.execute_input": "2023-04-21T04:17:08.143308Z",
          "iopub.status.busy": "2023-04-21T04:17:08.142259Z",
          "iopub.status.idle": "2023-04-21T04:17:08.729054Z",
          "shell.execute_reply": "2023-04-21T04:17:08.727816Z",
          "shell.execute_reply.started": "2023-04-21T04:17:08.143264Z"
        },
        "trusted": true,
        "colab": {
          "base_uri": "https://localhost:8080/",
          "height": 556
        },
        "id": "0PLmDgOF-yWr",
        "outputId": "15174db3-fa3a-4212-c7ff-44a9e2c33fe3"
      },
      "outputs": [
        {
          "output_type": "stream",
          "name": "stdout",
          "text": [
            "True Positives (TP): 792\n",
            "True Negatives (TN): 7588\n",
            "False Positives (FP): 4\n",
            "False Negatives (FN): 6\n"
          ]
        },
        {
          "output_type": "display_data",
          "data": {
            "text/plain": [
              "<Figure size 640x480 with 1 Axes>"
            ],
            "image/png": "[encoded data removed]"
          },
          "metadata": {}
        }
      ],
      "source": [
        "# Assuming 'Lenetresults' contains raw class predictions (not one-hot encoded)\n",
        "y_pred = pd.Series(Lenetresults, name=\"Label\")\n",
        "y_pred = tf.keras.utils.to_categorical(y_pred,10)\n",
        "# Convert 'y_true' and 'y_pred' to their original class label format\n",
        "y_true_class = np.argmax(y_test, axis=1)\n",
        "y_pred_class = np.argmax(y_pred, axis=1)\n",
        "\n",
        "# Compute the confusion matrix\n",
        "confusion_matrix = metrics.confusion_matrix(y_true_class, y_pred_class)\n",
        "\n",
        "# Calculate TP, TN, FP, FN as before\n",
        "TP = confusion_matrix[2, 2]\n",
        "TN = confusion_matrix[:2, :2].sum() + confusion_matrix[:2, 3:].sum() + confusion_matrix[3:, :2].sum() + confusion_matrix[3:, 3:].sum()\n",
        "FP = confusion_matrix[0, 2] + confusion_matrix[1, 2] + confusion_matrix[3, 2] + confusion_matrix[4, 2]\n",
        "FN = confusion_matrix[2, 0] + confusion_matrix[2, 1] + confusion_matrix[2, 3] + confusion_matrix[2, 4]\n",
        "\n",
        "# Rest of your code for creating the confusion matrix plot\n",
        "\n",
        "\n",
        "\n",
        "print(\"True Positives (TP):\", TP)\n",
        "print(\"True Negatives (TN):\", TN)\n",
        "print(\"False Positives (FP):\", FP)\n",
        "print(\"False Negatives (FN):\", FN)\n",
        "\n",
        "# create confusion matrix plot\n",
        "labels = [0, 1, 2, 3, 4, 5, 6, 7, 8, 9]  # all possible labels\n",
        "fig, ax = plt.subplots()\n",
        "im = ax.imshow(confusion_matrix, cmap='Blues')\n",
        "\n",
        "# set tick labels and locations\n",
        "ax.set_xticks(np.arange(len(labels)))\n",
        "ax.set_yticks(np.arange(len(labels)))\n",
        "ax.set_xticklabels(labels)\n",
        "ax.set_yticklabels(labels)\n",
        "\n",
        "# Rotate the tick labels and set their alignment.\n",
        "plt.setp(ax.get_xticklabels(), rotation=45, ha=\"right\",\n",
        "         rotation_mode=\"anchor\")\n",
        "\n",
        "# loop over data dimensions and create text annotations.\n",
        "for i in range(len(labels)):\n",
        "    for j in range(len(labels)):\n",
        "        text = ax.text(j, i, confusion_matrix[i, j],\n",
        "                       ha=\"center\", va=\"center\", color=\"black\")\n",
        "\n",
        "ax.set_title(\"Confusion Matrix\")\n",
        "ax.set_xlabel('Predicted label')\n",
        "ax.set_ylabel('True label')\n",
        "fig.tight_layout()\n",
        "plt.show()\n"
      ]
    },
    {
      "cell_type": "code",
      "execution_count": null,
      "metadata": {
        "colab": {
          "base_uri": "https://localhost:8080/",
          "height": 607
        },
        "id": "twK87xVt-yWr",
        "outputId": "4255222d-3b3f-4018-9a16-c2b8fc29b275"
      },
      "outputs": [
        {
          "output_type": "display_data",
          "data": {
            "text/plain": [
              "<Figure size 1400x600 with 2 Axes>"
            ],
            "image/png": "[encoded data removed]"
          },
          "metadata": {}
        }
      ],
      "source": [
        "\n",
        "# List of model names\n",
        "models = [\"CNN\",\"RNN\", \"VGG\",\"Inception\",\"ResNet\", \"LeNet\"]\n",
        "\n",
        "# List of test accuracy values for each model\n",
        "test_accuracy = [CNN_accuracy, RNN_accuracy, VGG_accuracy, Inception_accuracy, Resnet_accuracy, Lenet_accuracy]\n",
        "\n",
        "# Create a figure with two subplots (bar plot and line plot)\n",
        "fig, (ax1, ax2) = plt.subplots(1, 2, figsize=(14, 6))\n",
        "\n",
        "# Subplot 1: Bar Plot\n",
        "sns.set_style(\"whitegrid\", {'axes.grid': False})\n",
        "sns.barplot(x=models, y=test_accuracy, ax=ax1)\n",
        "ax1.set_title('Test Accuracy for Different Models (Bar Plot)')\n",
        "ax1.set_xlabel('Model')\n",
        "ax1.set_ylabel('Accuracy')\n",
        "ax1.set_ylim(0.97, 1)  # Set the y-axis limits between 0.95 and 1\n",
        "\n",
        "# Subplot 2: Line Plot\n",
        "sns.set_style(\"whitegrid\")\n",
        "sns.lineplot(x=models, y=test_accuracy, marker='o', ax=ax2)\n",
        "ax2.set_title('Test Accuracy for Different Models (Line Plot)')\n",
        "ax2.set_xlabel('Model')\n",
        "ax2.set_ylabel('Accuracy')\n",
        "ax2.set_ylim(0.97, 1)  # Set the y-axis limits between 0.95 and 1\n",
        "\n",
        "plt.tight_layout()\n",
        "plt.show()\n"
      ]
    },
    {
      "cell_type": "code",
      "source": [
        "\n",
        "# List of model names\n",
        "models = [\"CNN\", \"RNN\", \"VGG\", \"Inception\", \"ResNet\", \"LeNet\"]\n",
        "\n",
        "# List of traing time values for each model\n",
        "training_time = [CNNtraining_time, RNNtraining_time, VGGtraining_time, Inceptiontraining_time, ResNettraining_time, Lenettraining_time]\n",
        "\n",
        "# Create a figure with two subplots (bar plot and line plot)\n",
        "fig, (ax1, ax2) = plt.subplots(1, 2, figsize=(14, 6))\n",
        "\n",
        "# Subplot 1: Bar Plot\n",
        "sns.set_style(\"whitegrid\", {'axes.grid': False})\n",
        "sns.barplot(x=models, y=training_time, ax=ax1)\n",
        "ax1.set_title('Training Time for Different Models (Bar Plot)')\n",
        "ax1.set_xlabel('Model')\n",
        "ax1.set_ylabel('Time (in seconds)')\n",
        "\n",
        "# Subplot 2: Line Plot\n",
        "# Clear the previous style settings\n",
        "sns.set(style=None)\n",
        "sns.lineplot(x=models, y=training_time, marker='o', ax=ax2)\n",
        "ax2.set_title('Training Time for Different Models (Line Plot)')\n",
        "ax2.set_xlabel('Model')\n",
        "ax2.set_ylabel('Time (in seconds)')\n",
        "\n",
        "plt.tight_layout()\n",
        "plt.show()\n"
      ],
      "metadata": {
        "colab": {
          "base_uri": "https://localhost:8080/",
          "height": 601
        },
        "id": "ACLxkwmdXmzp",
        "outputId": "e82d0108-a3fd-4e7e-87f2-2fd136b39d23"
      },
      "execution_count": null,
      "outputs": [
        {
          "output_type": "display_data",
          "data": {
            "text/plain": [
              "<Figure size 1400x600 with 2 Axes>"
            ],
            "image/png": "[encoded data removed]"
          },
          "metadata": {}
        }
      ]
    }
  ],
  "metadata": {
    "kernelspec": {
      "display_name": "Python 3",
      "name": "python3"
    },
    "language_info": {
      "codemirror_mode": {
        "name": "ipython",
        "version": 3
      },
      "file_extension": ".py",
      "mimetype": "text/x-python",
      "name": "python",
      "nbconvert_exporter": "python",
      "pygments_lexer": "ipython3",
      "version": "3.9.17"
    },
    "colab": {
      "provenance": [],
      "gpuType": "T4"
    },
    "accelerator": "GPU"
  },
  "nbformat": 4,
  "nbformat_minor": 0
}